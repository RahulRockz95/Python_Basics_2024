{
 "cells": [
  {
   "cell_type": "markdown",
   "id": "ae983e8b",
   "metadata": {},
   "source": [
    "- We have 3 cases in condition \n",
    "\n",
    "- Case 1: if\n",
    "\n",
    "- Case 2: if-else\n",
    "    \n",
    "- case 3: of-elif-else\n",
    "    \n",
    "Conditionla statements mean we are asking a question\n",
    "\n",
    "- when we ask the question computer will give true or false\n",
    "\n",
    "- if true then we want to execute the statements\n",
    "\n",
    "- if false also we can execute the statements"
   ]
  },
  {
   "cell_type": "markdown",
   "id": "30d9815a",
   "metadata": {},
   "source": [
    "**Case 1: if**"
   ]
  },
  {
   "cell_type": "code",
   "execution_count": 11,
   "id": "9e08e6ab",
   "metadata": {},
   "outputs": [],
   "source": [
    "# - Syntax\n",
    "# - if we the statements starts with any keyboard\n",
    "# - end of the statement: will be there\n",
    "    \n",
    "# - when: is there then we need to provide information\n",
    "    \n",
    "# - indentation means next lines has start with some spaces\n",
    "\n",
    "# - if <condition>:\n",
    "#     <st1>\n",
    "#     <st2>\n",
    "#     ----\n",
    "    \n",
    "#     <stn>\n",
    "\n",
    "# if the condition is true then only , it goes inside if block and run the cells"
   ]
  },
  {
   "cell_type": "code",
   "execution_count": 6,
   "id": "aa982423",
   "metadata": {},
   "outputs": [
    {
     "data": {
      "text/plain": [
       "True"
      ]
     },
     "execution_count": 6,
     "metadata": {},
     "output_type": "execute_result"
    }
   ],
   "source": [
    "100>10"
   ]
  },
  {
   "cell_type": "code",
   "execution_count": 5,
   "id": "70d1d752",
   "metadata": {},
   "outputs": [
    {
     "name": "stdout",
     "output_type": "stream",
     "text": [
      "manish\n"
     ]
    }
   ],
   "source": [
    "if 100>10:\n",
    "    print(\"manish\")"
   ]
  },
  {
   "cell_type": "markdown",
   "id": "2624d586",
   "metadata": {},
   "source": [
    "**Error1: Indentation error**"
   ]
  },
  {
   "cell_type": "code",
   "execution_count": 7,
   "id": "94a50527",
   "metadata": {},
   "outputs": [
    {
     "ename": "IndentationError",
     "evalue": "expected an indented block after 'if' statement on line 1 (1658022112.py, line 2)",
     "output_type": "error",
     "traceback": [
      "\u001b[1;36m  Cell \u001b[1;32mIn[7], line 2\u001b[1;36m\u001b[0m\n\u001b[1;33m    print(\"manish\")\u001b[0m\n\u001b[1;37m    ^\u001b[0m\n\u001b[1;31mIndentationError\u001b[0m\u001b[1;31m:\u001b[0m expected an indented block after 'if' statement on line 1\n"
     ]
    }
   ],
   "source": [
    "if 100>10:\n",
    "print(\"manish\")"
   ]
  },
  {
   "cell_type": "markdown",
   "id": "312a3ef8",
   "metadata": {},
   "source": [
    "**Error2: missing the colon(:) at the end**"
   ]
  },
  {
   "cell_type": "code",
   "execution_count": 8,
   "id": "37c43b64",
   "metadata": {},
   "outputs": [
    {
     "ename": "SyntaxError",
     "evalue": "expected ':' (3305202983.py, line 1)",
     "output_type": "error",
     "traceback": [
      "\u001b[1;36m  Cell \u001b[1;32mIn[8], line 1\u001b[1;36m\u001b[0m\n\u001b[1;33m    if 100>10\u001b[0m\n\u001b[1;37m             ^\u001b[0m\n\u001b[1;31mSyntaxError\u001b[0m\u001b[1;31m:\u001b[0m expected ':'\n"
     ]
    }
   ],
   "source": [
    "if 100>10\n",
    "print(\"manish\")"
   ]
  },
  {
   "cell_type": "code",
   "execution_count": null,
   "id": "39df99ab",
   "metadata": {},
   "outputs": [],
   "source": [
    "if 100>10\n",
    "print(\"manish\")"
   ]
  },
  {
   "cell_type": "markdown",
   "id": "650d2d75",
   "metadata": {},
   "source": [
    "**Error 3: No condition**"
   ]
  },
  {
   "cell_type": "code",
   "execution_count": 20,
   "id": "b78bf791",
   "metadata": {},
   "outputs": [
    {
     "ename": "SyntaxError",
     "evalue": "invalid syntax (3057906292.py, line 1)",
     "output_type": "error",
     "traceback": [
      "\u001b[1;36m  Cell \u001b[1;32mIn[20], line 1\u001b[1;36m\u001b[0m\n\u001b[1;33m    if:\u001b[0m\n\u001b[1;37m      ^\u001b[0m\n\u001b[1;31mSyntaxError\u001b[0m\u001b[1;31m:\u001b[0m invalid syntax\n"
     ]
    }
   ],
   "source": [
    "if:\n",
    "    print(\"python\")"
   ]
  },
  {
   "cell_type": "code",
   "execution_count": 14,
   "id": "cec8d76f",
   "metadata": {},
   "outputs": [
    {
     "name": "stdout",
     "output_type": "stream",
     "text": [
      "python\n"
     ]
    }
   ],
   "source": [
    "if True:\n",
    "    print(\"python\")"
   ]
  },
  {
   "cell_type": "code",
   "execution_count": 15,
   "id": "c4cf1925",
   "metadata": {},
   "outputs": [
    {
     "name": "stdout",
     "output_type": "stream",
     "text": [
      "python\n"
     ]
    }
   ],
   "source": [
    "if 100>10:\n",
    "    print(\"python\")"
   ]
  },
  {
   "cell_type": "code",
   "execution_count": 16,
   "id": "5be58e21",
   "metadata": {},
   "outputs": [],
   "source": [
    "if False:\n",
    "    print(\"python\")"
   ]
  },
  {
   "cell_type": "code",
   "execution_count": 18,
   "id": "e0e05f8e",
   "metadata": {},
   "outputs": [
    {
     "name": "stdout",
     "output_type": "stream",
     "text": [
      "1\n",
      "2\n",
      "python\n",
      "bye\n"
     ]
    }
   ],
   "source": [
    "print(1)\n",
    "print(2)\n",
    "if 100>10:\n",
    "    print(\"python\")\n",
    "    print(\"bye\")"
   ]
  },
  {
   "cell_type": "code",
   "execution_count": 23,
   "id": "c16f5d4b",
   "metadata": {},
   "outputs": [
    {
     "name": "stdout",
     "output_type": "stream",
     "text": [
      "1\n",
      "2\n",
      "hello\n",
      "rahul\n"
     ]
    }
   ],
   "source": [
    "print(1)\n",
    "print(2)\n",
    "########################################\n",
    "if 100<10: # False\n",
    "    print(\"python\")\n",
    "    print(\"bye\")\n",
    "############################################\n",
    "    \n",
    "print(\"hello\") #hello\n",
    "print(\"rahul\") # Python"
   ]
  },
  {
   "cell_type": "code",
   "execution_count": 24,
   "id": "d7a8e3a3",
   "metadata": {},
   "outputs": [
    {
     "name": "stdout",
     "output_type": "stream",
     "text": [
      "1\n",
      "2\n",
      "hello\n",
      "rahul\n",
      "good\n",
      "day\n"
     ]
    }
   ],
   "source": [
    "print(1)\n",
    "print(2)\n",
    "########################################\n",
    "if 100<10: # False\n",
    "    print(\"python\")\n",
    "    print(\"bye\")\n",
    "############################################\n",
    "    \n",
    "print(\"hello\") #hello\n",
    "print(\"rahul\") # Python \n",
    "\n",
    "############################################\n",
    "\n",
    "if 1000>100:\n",
    "    print(\"good\") #hello\n",
    "    print(\"day\")"
   ]
  },
  {
   "cell_type": "code",
   "execution_count": null,
   "id": "32f690ef",
   "metadata": {
    "collapsed": true
   },
   "outputs": [],
   "source": []
  },
  {
   "cell_type": "raw",
   "id": "3de8c1a5",
   "metadata": {},
   "source": [
    "**Case 2- if-else**"
   ]
  },
  {
   "cell_type": "code",
   "execution_count": null,
   "id": "0f3e2617",
   "metadata": {},
   "outputs": [],
   "source": [
    "#syntax\n",
    "\n",
    "# if <condition>:\n",
    "#     <st1>\n",
    "#     <st2>\n",
    "# else\n",
    "#     <st1>\n",
    "#     <st2>\n",
    "    \n",
    "# if block required condition\n",
    "# if block condition fails, then automatically it goes to else block\n",
    "# so else block does not require the condition"
   ]
  },
  {
   "cell_type": "code",
   "execution_count": 25,
   "id": "954a6f77",
   "metadata": {},
   "outputs": [
    {
     "name": "stdout",
     "output_type": "stream",
     "text": [
      "python`\n"
     ]
    }
   ],
   "source": [
    "if 100<10:\n",
    "    print(\"hello world\")\n",
    "    \n",
    "else:\n",
    "    print(\"python\")"
   ]
  },
  {
   "cell_type": "code",
   "execution_count": 26,
   "id": "c7cda18b",
   "metadata": {},
   "outputs": [
    {
     "name": "stdout",
     "output_type": "stream",
     "text": [
      "hello world\n"
     ]
    }
   ],
   "source": [
    "if 100>10:\n",
    "    print(\"hello world\")\n",
    "    \n",
    "else:\n",
    "    print(\"python\")"
   ]
  },
  {
   "cell_type": "code",
   "execution_count": 27,
   "id": "0318cabd",
   "metadata": {},
   "outputs": [
    {
     "ename": "SyntaxError",
     "evalue": "expected ':' (3068251220.py, line 4)",
     "output_type": "error",
     "traceback": [
      "\u001b[1;36m  Cell \u001b[1;32mIn[27], line 4\u001b[1;36m\u001b[0m\n\u001b[1;33m    else False:\u001b[0m\n\u001b[1;37m         ^\u001b[0m\n\u001b[1;31mSyntaxError\u001b[0m\u001b[1;31m:\u001b[0m expected ':'\n"
     ]
    }
   ],
   "source": [
    "if 100>10:\n",
    "    print(\"hello world\")\n",
    "    \n",
    "else False:\n",
    "    print(\"python\")"
   ]
  },
  {
   "cell_type": "code",
   "execution_count": 28,
   "id": "66003a6e",
   "metadata": {},
   "outputs": [
    {
     "ename": "SyntaxError",
     "evalue": "invalid syntax (2358866299.py, line 5)",
     "output_type": "error",
     "traceback": [
      "\u001b[1;36m  Cell \u001b[1;32mIn[28], line 5\u001b[1;36m\u001b[0m\n\u001b[1;33m    else:\u001b[0m\n\u001b[1;37m    ^\u001b[0m\n\u001b[1;31mSyntaxError\u001b[0m\u001b[1;31m:\u001b[0m invalid syntax\n"
     ]
    }
   ],
   "source": [
    "print(1)\n",
    "if 100>10:\n",
    "    print(\"hello world\")\n",
    "print(\"Welcome\")\n",
    "else:\n",
    "    print(\"python\")"
   ]
  },
  {
   "cell_type": "code",
   "execution_count": 29,
   "id": "1689e084",
   "metadata": {},
   "outputs": [
    {
     "name": "stdout",
     "output_type": "stream",
     "text": [
      "1\n",
      "hello world\n"
     ]
    },
    {
     "ename": "ZeroDivisionError",
     "evalue": "division by zero",
     "output_type": "error",
     "traceback": [
      "\u001b[1;31m---------------------------------------------------------------------------\u001b[0m",
      "\u001b[1;31mZeroDivisionError\u001b[0m                         Traceback (most recent call last)",
      "Cell \u001b[1;32mIn[29], line 4\u001b[0m\n\u001b[0;32m      2\u001b[0m \u001b[38;5;28;01mif\u001b[39;00m \u001b[38;5;241m100\u001b[39m\u001b[38;5;241m>\u001b[39m\u001b[38;5;241m10\u001b[39m:\n\u001b[0;32m      3\u001b[0m     \u001b[38;5;28mprint\u001b[39m(\u001b[38;5;124m\"\u001b[39m\u001b[38;5;124mhello world\u001b[39m\u001b[38;5;124m\"\u001b[39m)\n\u001b[1;32m----> 4\u001b[0m     \u001b[38;5;28mprint\u001b[39m(\u001b[38;5;241m2\u001b[39m\u001b[38;5;241m/\u001b[39m\u001b[38;5;241m0\u001b[39m)\n\u001b[0;32m      5\u001b[0m \u001b[38;5;28;01melse\u001b[39;00m:\n\u001b[0;32m      6\u001b[0m     \u001b[38;5;28mprint\u001b[39m(\u001b[38;5;124m\"\u001b[39m\u001b[38;5;124mpython\u001b[39m\u001b[38;5;124m\"\u001b[39m)\n",
      "\u001b[1;31mZeroDivisionError\u001b[0m: division by zero"
     ]
    }
   ],
   "source": [
    "print(1)\n",
    "if 100>10:\n",
    "    print(\"hello world\")\n",
    "    print(2/0)\n",
    "else:\n",
    "    print(\"python\")"
   ]
  },
  {
   "cell_type": "code",
   "execution_count": 30,
   "id": "fd8a58be",
   "metadata": {},
   "outputs": [
    {
     "data": {
      "text/plain": [
       "0.8"
      ]
     },
     "execution_count": 30,
     "metadata": {},
     "output_type": "execute_result"
    }
   ],
   "source": [
    "4/5  # division"
   ]
  },
  {
   "cell_type": "code",
   "execution_count": 31,
   "id": "bbeb4e4d",
   "metadata": {},
   "outputs": [
    {
     "data": {
      "text/plain": [
       "0"
      ]
     },
     "execution_count": 31,
     "metadata": {},
     "output_type": "execute_result"
    }
   ],
   "source": [
    "4//5 # floor division is qotient"
   ]
  },
  {
   "cell_type": "code",
   "execution_count": 32,
   "id": "2b0b659a",
   "metadata": {},
   "outputs": [
    {
     "data": {
      "text/plain": [
       "4"
      ]
     },
     "execution_count": 32,
     "metadata": {},
     "output_type": "execute_result"
    }
   ],
   "source": [
    "4%5 # %:Modulus is remainder"
   ]
  },
  {
   "cell_type": "code",
   "execution_count": 36,
   "id": "3318ca82",
   "metadata": {},
   "outputs": [
    {
     "name": "stdout",
     "output_type": "stream",
     "text": [
      "enter the number:26\n",
      "the 26 is even\n"
     ]
    }
   ],
   "source": [
    "# wap ask the user enter a vlaue from keyboard\n",
    "# find whether the number is even or odd\n",
    "\n",
    "# hint: number % 2==0 then only its even \n",
    "# step1: get the number from keyboard\n",
    "# step2: if condition:\n",
    "# step-3: print(\"the {number} is even\")\n",
    "# step-4: else:\n",
    "# step-5: print(\"the {number}is odd\")\n",
    "\n",
    "# = means assigning a value \n",
    "# == means checking the condition\n",
    "number = eval(input(\"enter the number:\"))\n",
    "if number %2==0:\n",
    "    print(f\"the {number} is even\")\n",
    "    \n",
    "else:\n",
    "    print(f\"the {number} is odd\")"
   ]
  },
  {
   "cell_type": "code",
   "execution_count": 37,
   "id": "38662511",
   "metadata": {},
   "outputs": [
    {
     "name": "stdout",
     "output_type": "stream",
     "text": [
      "the 34 is even\n"
     ]
    }
   ],
   "source": [
    "# wap implement above the code\n",
    "# by taking number randomly between 10,100\n",
    "\n",
    "import random\n",
    "number = random.randint(10,100)\n",
    "if number %2==0:\n",
    "    print(f\"the {number} is even\")\n",
    "    \n",
    "else:\n",
    "    print(f\"the {number} is odd\")"
   ]
  },
  {
   "cell_type": "code",
   "execution_count": 42,
   "id": "e4fe472e",
   "metadata": {},
   "outputs": [
    {
     "name": "stdout",
     "output_type": "stream",
     "text": [
      "enter the number2: 34\n",
      "you lose\n"
     ]
    }
   ],
   "source": [
    "# Game program\n",
    "# there are 2 numbers\n",
    "#num1 comes from random\n",
    "# num2 is taking from the keyboard\n",
    "# if both numbers are equal then print you won\n",
    "# else you lose\n",
    "\n",
    "import random\n",
    "num1 =  random.randint(1,100)\n",
    "num2 = eval(input(\"enter the number2: \"))\n",
    "if num1==num2:\n",
    "    print(\"you Won\")\n",
    "    \n",
    "else:\n",
    "    print(\"you lose\")"
   ]
  },
  {
   "cell_type": "code",
   "execution_count": 50,
   "id": "7885ea7c",
   "metadata": {},
   "outputs": [
    {
     "name": "stdout",
     "output_type": "stream",
     "text": [
      "how much distance you need to travel23\n",
      "free ride\n"
     ]
    }
   ],
   "source": [
    "# wap ask the user enetr how much distance need to travel \n",
    "# ask the user enetr charge per km if the dist is greater then equal to 25\n",
    "# otherwise print free ride\n",
    "\n",
    "distance = eval(input(\"how much distance you need to travel:\"))\n",
    "if distance > 25:\n",
    "    charge =  eval(input(\"Enter the charge per km\"))\n",
    "    print(f\"Total Charge: {distance*charge}\")\n",
    "else:\n",
    "    print (\"free ride\")"
   ]
  },
  {
   "cell_type": "code",
   "execution_count": null,
   "id": "ed2357c2",
   "metadata": {},
   "outputs": [],
   "source": [
    "# I have 2 conditions\n",
    "# One condition refer to if block\n",
    "# automatically second condition refer to the else block\n",
    "\n",
    "# what happens if we have 3 conditions are there \n",
    "# then we will use elif\n",
    "\n",
    "# always first condition under if block\n",
    "# last condition under else block\n",
    "# remaining all under elif block\n",
    "\n",
    "# if <cond1>:\n",
    "#     <str1>\n",
    "#     <str2>\n",
    "# elif <cond2>:\n",
    "#     <str2>\n",
    "# else:\n",
    "#     st3"
   ]
  },
  {
   "cell_type": "code",
   "execution_count": 53,
   "id": "fed0058d",
   "metadata": {},
   "outputs": [
    {
     "name": "stdout",
     "output_type": "stream",
     "text": [
      "enetr the number: 5\n",
      "bye\n"
     ]
    }
   ],
   "source": [
    "# wap ask the user enter a number if number =1 then print 1\n",
    "# if number= 2 then print 2, if number =3 print 3, if number =4 then print 4\n",
    "# other wise print bye\n",
    "\n",
    "number = eval(input(\"enetr the number: \"))\n",
    "if  number==1:\n",
    "     print(1)\n",
    "elif number==2:\n",
    "     print(2)\n",
    "elif number==3:\n",
    "     print(3)\n",
    "elif number==4:\n",
    "     print(4)\n",
    "\n",
    "else:\n",
    "     print(\"bye\")"
   ]
  },
  {
   "cell_type": "code",
   "execution_count": null,
   "id": "2c7a9588",
   "metadata": {},
   "outputs": [],
   "source": []
  }
 ],
 "metadata": {
  "kernelspec": {
   "display_name": "Python 3 (ipykernel)",
   "language": "python",
   "name": "python3"
  },
  "language_info": {
   "codemirror_mode": {
    "name": "ipython",
    "version": 3
   },
   "file_extension": ".py",
   "mimetype": "text/x-python",
   "name": "python",
   "nbconvert_exporter": "python",
   "pygments_lexer": "ipython3",
   "version": "3.11.7"
  }
 },
 "nbformat": 4,
 "nbformat_minor": 5
}
