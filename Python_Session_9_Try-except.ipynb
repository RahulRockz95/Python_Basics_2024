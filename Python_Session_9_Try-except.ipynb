{
 "cells": [
  {
   "cell_type": "markdown",
   "id": "25da38ff",
   "metadata": {},
   "source": [
    "**try-except**\n",
    "\n",
    "- Generally python is a sequencial process \n",
    "- which means if you get error the compiler will not excute other statements \n",
    "- There is a situations eventhough if you got error at particular line, - - - -- compiler should exceute some part of the code \n",
    "- This is possible by using try-except\n",
    "- we have two blocks:\n",
    "- try block \n",
    "-  the original code will run under try block \n",
    "- except block\n",
    "- if any error comes it will redirect to except block"
   ]
  },
  {
   "cell_type": "code",
   "execution_count": null,
   "id": "a6900f26",
   "metadata": {},
   "outputs": [],
   "source": [
    "**case-1**\n",
    "- whenever we got the error in try block\n",
    "\n",
    "- the compiler will execute statemensts of except block"
   ]
  },
  {
   "cell_type": "code",
   "execution_count": 2,
   "id": "1a08cfbd",
   "metadata": {},
   "outputs": [
    {
     "ename": "ZeroDivisionError",
     "evalue": "division by zero",
     "output_type": "error",
     "traceback": [
      "\u001b[1;31m---------------------------------------------------------------------------\u001b[0m",
      "\u001b[1;31mZeroDivisionError\u001b[0m                         Traceback (most recent call last)",
      "Cell \u001b[1;32mIn[2], line 3\u001b[0m\n\u001b[0;32m      1\u001b[0m a\u001b[38;5;241m=\u001b[39m\u001b[38;5;241m10\u001b[39m\n\u001b[0;32m      2\u001b[0m b\u001b[38;5;241m=\u001b[39m\u001b[38;5;241m0\u001b[39m\n\u001b[1;32m----> 3\u001b[0m a\u001b[38;5;241m/\u001b[39mb\n\u001b[0;32m      4\u001b[0m \u001b[38;5;28mprint\u001b[39m(\u001b[38;5;124m\"\u001b[39m\u001b[38;5;124mhello\u001b[39m\u001b[38;5;124m\"\u001b[39m)\n",
      "\u001b[1;31mZeroDivisionError\u001b[0m: division by zero"
     ]
    }
   ],
   "source": [
    "a=10\n",
    "b=0\n",
    "a/b\n",
    "print(\"hello\")"
   ]
  },
  {
   "cell_type": "code",
   "execution_count": 11,
   "id": "1a842d03",
   "metadata": {},
   "outputs": [
    {
     "name": "stdout",
     "output_type": "stream",
     "text": [
      "The value of a is: 10\n",
      "Hello\n"
     ]
    }
   ],
   "source": [
    "try: \n",
    "    a=10\n",
    "    b=0\n",
    "    print(\"The value of a is:\",a)\n",
    "    a/b # invalid\n",
    "    print(\"You will get error\")\n",
    "except:\n",
    "    print(\"Hello\")"
   ]
  },
  {
   "cell_type": "markdown",
   "id": "6bf41a05",
   "metadata": {},
   "source": [
    "**Case-2**\n",
    "- If there is no error in try block, \n",
    "- Then compiler will not execute the statements of except block"
   ]
  },
  {
   "cell_type": "code",
   "execution_count": 10,
   "id": "fab81331",
   "metadata": {},
   "outputs": [
    {
     "name": "stdout",
     "output_type": "stream",
     "text": [
      "the value of a is: 10\n",
      "the value of b is: 10\n",
      "you will get error\n"
     ]
    }
   ],
   "source": [
    "try: \n",
    "    a=10\n",
    "    b=10\n",
    "    print(\"the value of a is:\",a)\n",
    "    print(\"the value of b is:\",b)\n",
    "    a/b # valid \n",
    "    print(\"you will get error\")\n",
    "except:\n",
    "    print(\"hello\")"
   ]
  },
  {
   "cell_type": "code",
   "execution_count": 12,
   "id": "4c404764",
   "metadata": {},
   "outputs": [
    {
     "data": {
      "text/plain": [
       "20"
      ]
     },
     "execution_count": 12,
     "metadata": {},
     "output_type": "execute_result"
    }
   ],
   "source": [
    "a=10\n",
    "b=20\n",
    "a\n",
    "b"
   ]
  },
  {
   "cell_type": "code",
   "execution_count": 18,
   "id": "1d656a2e",
   "metadata": {},
   "outputs": [
    {
     "name": "stdout",
     "output_type": "stream",
     "text": [
      "hai\n",
      "hello\n",
      "enter a num1:2\n",
      "enter a num2:3\n",
      " the addition of 2 and 3 is:5\n",
      "bye\n"
     ]
    }
   ],
   "source": [
    "print(\"hai\")\n",
    "print(\"hello\")\n",
    "##############################################################\n",
    "try:\n",
    "    a = eval(input(\"enter a num1:\"))\n",
    "    b = eval(input(\"enter a num2:\"))\n",
    "    add=a+b\n",
    "    print(f\" the addition of {a} and {b} is:{add}\")\n",
    "except:\n",
    "    print(\"error is there\")\n",
    "    print(\"check the code\")\n",
    "    n1=100\n",
    "    n2=200\n",
    "    if n1>n2:\n",
    "        print(\"n1 is greater\")\n",
    "    else:\n",
    "        print(\"n2 is greater\")\n",
    "################################################################\n",
    "print(\"bye\")\n"
   ]
  },
  {
   "cell_type": "markdown",
   "id": "8e5a20d7",
   "metadata": {},
   "source": [
    "**Capture the errors**\n",
    "- mainly try and except is used to capture the errors"
   ]
  },
  {
   "cell_type": "code",
   "execution_count": null,
   "id": "dab2ec00",
   "metadata": {},
   "outputs": [],
   "source": [
    "print(\"hai\")\n",
    "print(\"hello\")\n",
    "##############################################################\n",
    "try:\n",
    "    a = eval(input(\"enter a num1:\"))\n",
    "    b = eval(input(\"enter a num2:\"))\n",
    "    add=aaaa+b\n",
    "    print(f\" the addition of {a} and {b} is:{add}\")\n",
    "except:\n",
    "    print(\"error is there\")\n",
    "    print(\"check the code\")\n",
    "    n1=100\n",
    "    n2=200\n",
    "    if n1>n2:\n",
    "        print(\"n1 is greater\")\n",
    "    else:\n",
    "        print(\"n2 is greater\")\n",
    "################################################################\n",
    "print(\"bye\")"
   ]
  },
  {
   "cell_type": "markdown",
   "id": "0e23878c",
   "metadata": {},
   "source": [
    "**Understand the errors**\n",
    "- Syntax error:\n",
    "    - If you miss the brackets or colons or qotations \n",
    "- Indentation error:\n",
    "    - After colon(:) we need some space\n",
    "- Name error:\n",
    "    if you not define any name that is in black color\n",
    "- Division error:\n",
    "    - Some number divided by zero\n",
    "- Value error:\n",
    "    - number type conversion\n",
    "- Type error:\n",
    "    - any math operations on english letters    "
   ]
  },
  {
   "cell_type": "code",
   "execution_count": 19,
   "id": "e015ab2a",
   "metadata": {},
   "outputs": [
    {
     "name": "stdout",
     "output_type": "stream",
     "text": [
      "enter a num1:python\n"
     ]
    },
    {
     "ename": "NameError",
     "evalue": "name 'python' is not defined",
     "output_type": "error",
     "traceback": [
      "\u001b[1;31m---------------------------------------------------------------------------\u001b[0m",
      "\u001b[1;31mNameError\u001b[0m                                 Traceback (most recent call last)",
      "Cell \u001b[1;32mIn[19], line 1\u001b[0m\n\u001b[1;32m----> 1\u001b[0m a \u001b[38;5;241m=\u001b[39m \u001b[38;5;28meval\u001b[39m(\u001b[38;5;28minput\u001b[39m(\u001b[38;5;124m\"\u001b[39m\u001b[38;5;124menter a num1:\u001b[39m\u001b[38;5;124m\"\u001b[39m))\n",
      "File \u001b[1;32m<string>:1\u001b[0m\n",
      "\u001b[1;31mNameError\u001b[0m: name 'python' is not defined"
     ]
    }
   ],
   "source": [
    "a = eval(input(\"enter a num1:\"))"
   ]
  },
  {
   "cell_type": "code",
   "execution_count": 22,
   "id": "411f08c3",
   "metadata": {},
   "outputs": [
    {
     "ename": "NameError",
     "evalue": "name 'aaaa' is not defined",
     "output_type": "error",
     "traceback": [
      "\u001b[1;31m---------------------------------------------------------------------------\u001b[0m",
      "\u001b[1;31mNameError\u001b[0m                                 Traceback (most recent call last)",
      "Cell \u001b[1;32mIn[22], line 1\u001b[0m\n\u001b[1;32m----> 1\u001b[0m add\u001b[38;5;241m=\u001b[39maaaa\u001b[38;5;241m+\u001b[39mb\n",
      "\u001b[1;31mNameError\u001b[0m: name 'aaaa' is not defined"
     ]
    }
   ],
   "source": [
    "add=aaaa+b"
   ]
  },
  {
   "cell_type": "code",
   "execution_count": 21,
   "id": "28a076b2",
   "metadata": {},
   "outputs": [
    {
     "ename": "SyntaxError",
     "evalue": "unterminated string literal (detected at line 1) (2373204882.py, line 1)",
     "output_type": "error",
     "traceback": [
      "\u001b[1;36m  Cell \u001b[1;32mIn[21], line 1\u001b[1;36m\u001b[0m\n\u001b[1;33m    print(f\" the addition of {a} and {b} is:{add})\u001b[0m\n\u001b[1;37m          ^\u001b[0m\n\u001b[1;31mSyntaxError\u001b[0m\u001b[1;31m:\u001b[0m unterminated string literal (detected at line 1)\n"
     ]
    }
   ],
   "source": [
    "print(f\"The addition of {a} and {b} is:{add})"
   ]
  },
  {
   "cell_type": "code",
   "execution_count": 5,
   "id": "53bb4166",
   "metadata": {},
   "outputs": [
    {
     "name": "stdout",
     "output_type": "stream",
     "text": [
      "enter a num1:10\n",
      "enter a num2:0\n",
      "value error\n"
     ]
    }
   ],
   "source": [
    "try:\n",
    "    a = eval(input(\"enter a num1:\"))\n",
    "    b = eval(input(\"enter a num2:\"))\n",
    "    add=a/b\n",
    "    print(f\" the addition of {a} and {b} is:{add}\")\n",
    "except:\n",
    "    print(\"value error\")"
   ]
  },
  {
   "cell_type": "code",
   "execution_count": 4,
   "id": "834db31c",
   "metadata": {},
   "outputs": [
    {
     "name": "stdout",
     "output_type": "stream",
     "text": [
      "enter a num1:4\n",
      "enter a num2:0\n",
      "division by zero\n"
     ]
    }
   ],
   "source": [
    "try:\n",
    "    a = eval(input(\"enter a num1:\"))\n",
    "    b = eval(input(\"enter a num2:\"))\n",
    "    add=a/b\n",
    "    print(f\" the addition of {a} and {b} is:{add}\")\n",
    "except Exception as e: # to capture the error automatically\n",
    "    print(e)"
   ]
  },
  {
   "cell_type": "markdown",
   "id": "eb422201",
   "metadata": {},
   "source": [
    "**syntax error will not capture by exception block**"
   ]
  },
  {
   "cell_type": "code",
   "execution_count": 6,
   "id": "d13ae692",
   "metadata": {},
   "outputs": [
    {
     "name": "stdout",
     "output_type": "stream",
     "text": [
      "the 14 is even\n"
     ]
    }
   ],
   "source": [
    "#Apply try-except block for even odd program\n",
    "# WAP implement the above code\n",
    "# by taking number randomly between 10,100\n",
    "import random\n",
    "\n",
    "try:\n",
    "    number = random.randint(10,100)\n",
    "    if number %2==0:\n",
    "        print(f\"the {number} is even\")\n",
    "    else:\n",
    "        print(f\"the {number} is odd\")\n",
    "        \n",
    "except Exception as e:\n",
    "    print(e)"
   ]
  },
  {
   "cell_type": "code",
   "execution_count": 10,
   "id": "eb7b6217",
   "metadata": {},
   "outputs": [
    {
     "data": {
      "text/plain": [
       "5432"
      ]
     },
     "execution_count": 10,
     "metadata": {},
     "output_type": "execute_result"
    }
   ],
   "source": [
    "54321//10"
   ]
  },
  {
   "cell_type": "code",
   "execution_count": 13,
   "id": "a1a2d398",
   "metadata": {},
   "outputs": [
    {
     "data": {
      "text/plain": [
       "1"
      ]
     },
     "execution_count": 13,
     "metadata": {},
     "output_type": "execute_result"
    }
   ],
   "source": [
    "54321%10"
   ]
  },
  {
   "cell_type": "code",
   "execution_count": 8,
   "id": "7a15728c",
   "metadata": {},
   "outputs": [],
   "source": [
    "n1= 54321//10\n",
    "n2= 54321%10\n",
    "n3=n1//10\n",
    "n4=n1%10\n",
    "n5=n3//10\n",
    "n6=n3%10\n",
    "n7=n5//10\n",
    "n8=n5%10"
   ]
  },
  {
   "cell_type": "code",
   "execution_count": 9,
   "id": "8263b8aa",
   "metadata": {},
   "outputs": [
    {
     "data": {
      "text/plain": [
       "(1, 2, 3, 4)"
      ]
     },
     "execution_count": 9,
     "metadata": {},
     "output_type": "execute_result"
    }
   ],
   "source": [
    "n2,n4,n6,n8"
   ]
  },
  {
   "cell_type": "code",
   "execution_count": null,
   "id": "66fe1c89",
   "metadata": {},
   "outputs": [],
   "source": [
    "180\n",
    "one 100\n",
    "1   50\n",
    "3   10"
   ]
  }
 ],
 "metadata": {
  "kernelspec": {
   "display_name": "Python 3 (ipykernel)",
   "language": "python",
   "name": "python3"
  },
  "language_info": {
   "codemirror_mode": {
    "name": "ipython",
    "version": 3
   },
   "file_extension": ".py",
   "mimetype": "text/x-python",
   "name": "python",
   "nbconvert_exporter": "python",
   "pygments_lexer": "ipython3",
   "version": "3.11.7"
  }
 },
 "nbformat": 4,
 "nbformat_minor": 5
}
