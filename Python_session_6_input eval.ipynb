{
 "cells": [
  {
   "cell_type": "markdown",
   "id": "ba736749",
   "metadata": {},
   "source": [
    "**Input**\n",
    "\n",
    "- Input is a keyword we can provide values from keyboard\n",
    "- which means user can give the own values \n",
    "- The kernel will be busy until unless you need to provide values inside the box\n",
    "- provide the value and hit enter\n",
    "- make sure that * should gone\n",
    "- the default data type is **string data type**"
   ]
  },
  {
   "cell_type": "code",
   "execution_count": 1,
   "id": "afe88f7d",
   "metadata": {},
   "outputs": [
    {
     "name": "stdout",
     "output_type": "stream",
     "text": [
      "123 nenoka kantri\n"
     ]
    },
    {
     "data": {
      "text/plain": [
       "'123 nenoka kantri'"
      ]
     },
     "execution_count": 1,
     "metadata": {},
     "output_type": "execute_result"
    }
   ],
   "source": [
    "input()"
   ]
  },
  {
   "cell_type": "code",
   "execution_count": 3,
   "id": "dfefabc1",
   "metadata": {},
   "outputs": [],
   "source": [
    "a=10"
   ]
  },
  {
   "cell_type": "code",
   "execution_count": 2,
   "id": "39f1da06",
   "metadata": {},
   "outputs": [
    {
     "name": "stdout",
     "output_type": "stream",
     "text": [
      "90\n"
     ]
    }
   ],
   "source": [
    "a=input()"
   ]
  },
  {
   "cell_type": "code",
   "execution_count": 4,
   "id": "457a846f",
   "metadata": {},
   "outputs": [
    {
     "name": "stdout",
     "output_type": "stream",
     "text": [
      "100\n",
      "200\n"
     ]
    },
    {
     "data": {
      "text/plain": [
       "'100200'"
      ]
     },
     "execution_count": 4,
     "metadata": {},
     "output_type": "execute_result"
    }
   ],
   "source": [
    "a=input()\n",
    "b=input()\n",
    "a+b"
   ]
  },
  {
   "cell_type": "code",
   "execution_count": 5,
   "id": "5f11ed3a",
   "metadata": {},
   "outputs": [
    {
     "data": {
      "text/plain": [
       "str"
      ]
     },
     "execution_count": 5,
     "metadata": {},
     "output_type": "execute_result"
    }
   ],
   "source": [
    "type(a)"
   ]
  },
  {
   "cell_type": "code",
   "execution_count": 6,
   "id": "4c9c5b54",
   "metadata": {},
   "outputs": [
    {
     "data": {
      "text/plain": [
       "str"
      ]
     },
     "execution_count": 6,
     "metadata": {},
     "output_type": "execute_result"
    }
   ],
   "source": [
    "type(b)"
   ]
  },
  {
   "cell_type": "code",
   "execution_count": 7,
   "id": "21afc47c",
   "metadata": {},
   "outputs": [
    {
     "name": "stdout",
     "output_type": "stream",
     "text": [
      "100\n",
      "200\n"
     ]
    },
    {
     "data": {
      "text/plain": [
       "300"
      ]
     },
     "execution_count": 7,
     "metadata": {},
     "output_type": "execute_result"
    }
   ],
   "source": [
    "a= int(input()) #int('100') = 100\n",
    "b=int(input())  #int('200') = 200\n",
    "a+b             #100+200 = 300 "
   ]
  },
  {
   "cell_type": "code",
   "execution_count": 8,
   "id": "464e74f2",
   "metadata": {},
   "outputs": [
    {
     "data": {
      "text/plain": [
       "int"
      ]
     },
     "execution_count": 8,
     "metadata": {},
     "output_type": "execute_result"
    }
   ],
   "source": [
    "type(a)"
   ]
  },
  {
   "cell_type": "code",
   "execution_count": 9,
   "id": "f68d6fb2",
   "metadata": {},
   "outputs": [
    {
     "name": "stdout",
     "output_type": "stream",
     "text": [
      "enter the num1:100\n",
      "enter the num2:200\n",
      "the addition of 100 and 200 is 300\n"
     ]
    }
   ],
   "source": [
    "a=int(input(\"enter the num1:\"))\n",
    "b=int(input(\"enter the num2:\"))\n",
    "c=a+b\n",
    "print(f\"the addition of {a} and {b} is {c}\")"
   ]
  },
  {
   "cell_type": "code",
   "execution_count": 10,
   "id": "e01bd841",
   "metadata": {},
   "outputs": [
    {
     "name": "stdout",
     "output_type": "stream",
     "text": [
      "nareshit\n"
     ]
    },
    {
     "data": {
      "text/plain": [
       "'nareshit'"
      ]
     },
     "execution_count": 10,
     "metadata": {},
     "output_type": "execute_result"
    }
   ],
   "source": [
    "input()"
   ]
  },
  {
   "cell_type": "code",
   "execution_count": 4,
   "id": "427ac86a",
   "metadata": {},
   "outputs": [
    {
     "name": "stdout",
     "output_type": "stream",
     "text": [
      "enter the name:Rahul Bhupathi\n"
     ]
    },
    {
     "data": {
      "text/plain": [
       "'Rahul Bhupathi'"
      ]
     },
     "execution_count": 4,
     "metadata": {},
     "output_type": "execute_result"
    }
   ],
   "source": [
    "input(\"enter the name:\")"
   ]
  },
  {
   "cell_type": "code",
   "execution_count": 3,
   "id": "9a87d1e8",
   "metadata": {},
   "outputs": [
    {
     "name": "stdout",
     "output_type": "stream",
     "text": [
      "enter the number1:89\n"
     ]
    },
    {
     "data": {
      "text/plain": [
       "'89'"
      ]
     },
     "execution_count": 3,
     "metadata": {},
     "output_type": "execute_result"
    }
   ],
   "source": [
    "input(\"enter the number1:\")"
   ]
  },
  {
   "cell_type": "code",
   "execution_count": 17,
   "id": "dba5ad7b",
   "metadata": {},
   "outputs": [
    {
     "name": "stdout",
     "output_type": "stream",
     "text": [
      "Welcome to input values\n",
      "enter the name:rahul\n",
      "enter the number1:300\n",
      "Welcome to input values\n",
      "rahul\n",
      "300\n"
     ]
    }
   ],
   "source": [
    "name1=input()\n",
    "name2=input(\"enter the name:\")\n",
    "num=input(\"enter the number1:\")\n",
    "print(name1)\n",
    "print(name2)\n",
    "print(num)"
   ]
  },
  {
   "cell_type": "code",
   "execution_count": 6,
   "id": "e3603043",
   "metadata": {},
   "outputs": [
    {
     "name": "stdout",
     "output_type": "stream",
     "text": [
      "enter the num1:500\n",
      "enter the num2:600\n",
      "1100\n"
     ]
    }
   ],
   "source": [
    "n1 = int(input(\"enter the num1:\"))  #int(500) = 500\n",
    "n2 = int(input(\"enter the num2:\"))  #int(600) = 600\n",
    "add=n1+n2                           #add=500+600\n",
    "print(add)"
   ]
  },
  {
   "cell_type": "code",
   "execution_count": 22,
   "id": "2ceba363",
   "metadata": {},
   "outputs": [
    {
     "name": "stdout",
     "output_type": "stream",
     "text": [
      "enter the num1:100\n",
      "enter the num2:200\n",
      "300\n"
     ]
    }
   ],
   "source": [
    "n1 = input(\"enter the num1:\")  # n1='100'\n",
    "n2 = input(\"enter the num2:\")  #n2 ='200'\n",
    "add=int(n1)+int(n2)            #add=500+600\n",
    "print(add)"
   ]
  },
  {
   "cell_type": "code",
   "execution_count": 25,
   "id": "62f2d00a",
   "metadata": {},
   "outputs": [
    {
     "name": "stdout",
     "output_type": "stream",
     "text": [
      "enter the num1:100.5\n",
      "enter the num2:200.5\n",
      "301.0\n"
     ]
    }
   ],
   "source": [
    "n1 = float(input(\"enter the num1:\"))  # n1='100.5'\n",
    "n2 = float(input(\"enter the num2:\"))  #n2 ='200.5'\n",
    "add=n1+n2         #add=100.5+200.5\n",
    "print(add)"
   ]
  },
  {
   "cell_type": "markdown",
   "id": "7a06a9cf",
   "metadata": {},
   "source": [
    "- whenever int is there, don't give the float values\n",
    "- if you want to give float values then apply float conversion\n",
    "- if you want to give int values then apply int conversion"
   ]
  },
  {
   "cell_type": "markdown",
   "id": "80656817",
   "metadata": {},
   "source": [
    "**Eval**"
   ]
  },
  {
   "cell_type": "markdown",
   "id": "ec3e0d6b",
   "metadata": {},
   "source": [
    "- eval Meaning Evaluate\n",
    "- eval will be used for numbers only, not for english\n",
    "- eval will convert int numbers to integer, and \n",
    "- eval will convert float numbers to float only"
   ]
  },
  {
   "cell_type": "code",
   "execution_count": 27,
   "id": "36432c72",
   "metadata": {},
   "outputs": [
    {
     "name": "stdout",
     "output_type": "stream",
     "text": [
      "enter the num1:100\n",
      "enter the num2:100.5\n",
      "200.5\n"
     ]
    }
   ],
   "source": [
    "n1 = eval(input(\"enter the num1:\"))  # n1='100'\n",
    "n2 = eval(input(\"enter the num2:\"))  #n2 ='100.5'\n",
    "add=n1+n2         #add=100+100.5\n",
    "print(add)"
   ]
  },
  {
   "cell_type": "code",
   "execution_count": 29,
   "id": "72cb5a0a",
   "metadata": {},
   "outputs": [
    {
     "name": "stdout",
     "output_type": "stream",
     "text": [
      "enter the num1:100\n",
      "enter the num2:200\n",
      "300\n"
     ]
    }
   ],
   "source": [
    "n1 = eval(input(\"enter the num1:\"))  # n1='100'\n",
    "n2 = eval(input(\"enter the num2:\"))  #n2 ='200'\n",
    "add=n1+n2         #add=100+200\n",
    "print(add)"
   ]
  },
  {
   "cell_type": "code",
   "execution_count": null,
   "id": "9987c686",
   "metadata": {},
   "outputs": [],
   "source": []
  }
 ],
 "metadata": {
  "kernelspec": {
   "display_name": "Python 3 (ipykernel)",
   "language": "python",
   "name": "python3"
  },
  "language_info": {
   "codemirror_mode": {
    "name": "ipython",
    "version": 3
   },
   "file_extension": ".py",
   "mimetype": "text/x-python",
   "name": "python",
   "nbconvert_exporter": "python",
   "pygments_lexer": "ipython3",
   "version": "3.11.7"
  }
 },
 "nbformat": 4,
 "nbformat_minor": 5
}
