{
 "cells": [
  {
   "cell_type": "code",
   "execution_count": 1,
   "id": "6331d38c",
   "metadata": {},
   "outputs": [],
   "source": [
    "# q1) write a program ask the user enter the numbers from keyboard\n",
    "# print addition\n",
    "# print subtraction\n",
    "# print multiplication\n",
    "# print division using f string method"
   ]
  },
  {
   "cell_type": "code",
   "execution_count": 3,
   "id": "a390454b",
   "metadata": {},
   "outputs": [
    {
     "name": "stdout",
     "output_type": "stream",
     "text": [
      "enter the num1100\n",
      "enter the num2200\n",
      "the addition of n1 and n2 is: 300\n",
      "the subtraction of n1 and n2 is: -100\n",
      "the multiplication of n1 and n2 is: 20000\n",
      "the division of n1 and n2 is: 0.5\n"
     ]
    }
   ],
   "source": [
    "n1=eval(input(\"enter the num1\"))\n",
    "n2=eval(input(\"enter the num2\"))\n",
    "add=n1+n2\n",
    "sub=n1-n2\n",
    "mul=n1*n2\n",
    "div=n1/n2\n",
    "print(\"the addition of n1 and n2 is:\",add)\n",
    "print(\"the subtraction of n1 and n2 is:\",sub)\n",
    "print(\"the multiplication of n1 and n2 is:\",mul)\n",
    "print(\"the division of n1 and n2 is:\",div)"
   ]
  },
  {
   "cell_type": "code",
   "execution_count": 8,
   "id": "9f638072",
   "metadata": {},
   "outputs": [
    {
     "name": "stdout",
     "output_type": "stream",
     "text": [
      "enter the num1:14\n",
      "enter the num2:15\n",
      "enter the num3:16\n",
      "15.0\n"
     ]
    }
   ],
   "source": [
    "# Q2) Ask the user enter 3 numbers and find the average of those numbers\n",
    "\n",
    "num1=eval(input(\"enter the num1:\"))\n",
    "num2=eval(input(\"enter the num2:\"))\n",
    "num3=eval(input(\"enter the num3:\"))\n",
    "avg=round((num1+num2+num3)/3,2)\n",
    "print(avg)"
   ]
  },
  {
   "cell_type": "code",
   "execution_count": 14,
   "id": "5e9a17a3",
   "metadata": {},
   "outputs": [
    {
     "name": "stdout",
     "output_type": "stream",
     "text": [
      "enter the bill1000\n",
      "enter the tip percentage10\n",
      "The total bill is: 1100.0\n"
     ]
    }
   ],
   "source": [
    "# Q3) Ask the user, how much tip percentage You have to pay and calculate the total\n",
    "\n",
    "bill = eval(input(\"enter the bill:\"))\n",
    "tip_percentage = eval(input(\"enter the tip percentage:\"))\n",
    "tip_amount = tip_percentage*bill/100\n",
    "total_bill = bill+tip_amount\n",
    "print(\"The total bill is:\", total_bill)"
   ]
  },
  {
   "cell_type": "code",
   "execution_count": 16,
   "id": "39a1760a",
   "metadata": {},
   "outputs": [
    {
     "name": "stdout",
     "output_type": "stream",
     "text": [
      "enter the weight in kgs30\n",
      "Your weight in pounds is: 66.0\n"
     ]
    }
   ],
   "source": [
    "# Q4) Ask the user enter the weight in kgs, display the answer in pounds\n",
    "# hint = 1kg=2.2pounds\n",
    "\n",
    "user = eval(input(\"enter the weight in kgs\"))\n",
    "\n",
    "# Converting kilograms to pounds\n",
    "weight_in_pounds = user * 2.2\n",
    "\n",
    "# Displaying the results\n",
    "print(f\"Your weight in pounds is: {weight_in_pounds}\")"
   ]
  },
  {
   "cell_type": "code",
   "execution_count": 2,
   "id": "f3dfe65c",
   "metadata": {},
   "outputs": [
    {
     "name": "stdout",
     "output_type": "stream",
     "text": [
      "enter the weight in kgs:100\n",
      "enter the weight in pounds:2.2\n",
      "Your weight in pounds is: 220.0\n"
     ]
    }
   ],
   "source": [
    "weight_kg = eval(input(\"enter the weight in kgs:\"))\n",
    "pounds=eval(input(\"enter the weight in pounds:\"))\n",
    "weight_pounds=round(pounds*weight_kg,2)\n",
    "print(f\"Your weight in pounds is: {weight_pounds}\")"
   ]
  },
  {
   "cell_type": "code",
   "execution_count": 25,
   "id": "af252fad",
   "metadata": {},
   "outputs": [
    {
     "name": "stdout",
     "output_type": "stream",
     "text": [
      "The addition of 46 and 34 is: 80\n"
     ]
    }
   ],
   "source": [
    "import random\n",
    "n1=random.randint(1,100)\n",
    "n2=random.randint(1,100)\n",
    "add=n1+n2\n",
    "print(f\"The addition of {n1} and {n2} is:\",add)"
   ]
  },
  {
   "cell_type": "code",
   "execution_count": 26,
   "id": "c41a776f",
   "metadata": {},
   "outputs": [
    {
     "name": "stdout",
     "output_type": "stream",
     "text": [
      "enter the num120\n",
      "enter the num230\n",
      "the addition of n1 and n2 is: 50\n",
      "the subtraction of n1 and n2 is: -10\n",
      "the multiplication of n1 and n2 is: 600\n",
      "the division of n1 and n2 is: 0.6666666666666666\n"
     ]
    }
   ],
   "source": [
    "# Print all 4 lines in 2 seconds gap\n",
    "\n",
    "import time\n",
    "n1=eval(input(\"enter the num1\"))\n",
    "n2=eval(input(\"enter the num2\"))\n",
    "add=n1+n2\n",
    "sub=n1-n2\n",
    "mul=n1*n2\n",
    "div=n1/n2\n",
    "print(\"the addition of n1 and n2 is:\",add)\n",
    "time.sleep(2)\n",
    "print(\"the subtraction of n1 and n2 is:\",sub)\n",
    "time.sleep(2)\n",
    "print(\"the multiplication of n1 and n2 is:\",mul)\n",
    "time.sleep(2)\n",
    "print(\"the division of n1 and n2 is:\",div)"
   ]
  },
  {
   "cell_type": "code",
   "execution_count": 2,
   "id": "23501de3",
   "metadata": {},
   "outputs": [
    {
     "name": "stdout",
     "output_type": "stream",
     "text": [
      "enter the radius:5\n",
      "The area of circle is:78.54\n"
     ]
    }
   ],
   "source": [
    "# wap ask the user \n",
    "# calculate the area of the circle\n",
    "# ask the user take radius from keyboard\n",
    "# area of circle =pi *r *r\n",
    "import math\n",
    "pi=math.pi\n",
    "radius = eval(input(\"enter the radius:\"))\n",
    "area_of_circle = round(pi*radius*radius,2)\n",
    "print(f\"The area of circle is:{area_of_circle}\")"
   ]
  },
  {
   "cell_type": "code",
   "execution_count": 3,
   "id": "69ca7852",
   "metadata": {},
   "outputs": [
    {
     "name": "stdout",
     "output_type": "stream",
     "text": [
      "enter the radius:5\n",
      "The area of circle is:78.54\n"
     ]
    }
   ],
   "source": [
    "import math\n",
    "pi=math.pi\n",
    "radius = eval(input(\"enter the radius:\"))\n",
    "area_of_circle = round(pi*radius**2,2)\n",
    "print(f\"The area of circle is:{area_of_circle}\")"
   ]
  },
  {
   "cell_type": "code",
   "execution_count": 4,
   "id": "b0806bcf",
   "metadata": {},
   "outputs": [
    {
     "name": "stdout",
     "output_type": "stream",
     "text": [
      "enter the breadth:25\n",
      "enter the height:35\n",
      "The area of traiangle is:437.5\n"
     ]
    }
   ],
   "source": [
    "# WAP ask the user take the breadth and height \n",
    "#calculate area of the traingle\n",
    "# formula: 0.5*b*h\n",
    "\n",
    "b = eval(input(\"enter the breadth:\"))\n",
    "h = eval(input(\"enter the height:\"))\n",
    "area_of_triangle = round(0.5*b*h\n",
    "print(f\"The area of traiangle is:{area_of_triangle}\")"
   ]
  },
  {
   "cell_type": "markdown",
   "id": "ca8a83d6",
   "metadata": {},
   "source": [
    "- How many we can provide the numbers\n",
    "\n",
    "- Hard coded: \n",
    "    - a=10\n",
    "    \n",
    "- From keyboard\n",
    "    - a=eval(input())\n",
    "    \n",
    "- Using random package \n",
    "    - a=random.randint(1,100)"
   ]
  },
  {
   "cell_type": "code",
   "execution_count": 6,
   "id": "9b9fefa2",
   "metadata": {},
   "outputs": [
    {
     "name": "stdout",
     "output_type": "stream",
     "text": [
      "The area of traiangle is:798.0\n"
     ]
    }
   ],
   "source": [
    "import random\n",
    "b = random.randint(10,100)\n",
    "h = random.randint(10,100)\n",
    "area_of_triangle = round(0.5*b*h,2)\n",
    "print(f\"The area of traiangle is:{area_of_triangle}\")"
   ]
  },
  {
   "cell_type": "code",
   "execution_count": 12,
   "id": "4c575d6a",
   "metadata": {},
   "outputs": [
    {
     "name": "stdout",
     "output_type": "stream",
     "text": [
      "The area of traiangle is:893.0\n",
      "enter the breadth:25\n",
      "enter the height:35\n",
      "The area of traiangle is:437.5\n",
      "The area of traiangle is:920.0\n"
     ]
    }
   ],
   "source": [
    "# ==================================M-1===========================================\n",
    "#method-1 : Hard Coded\n",
    "breadth = 10\n",
    "height = 100\n",
    "area_of_triangle = round(0.5*b*h,2)\n",
    "print(f\"The area of traiangle is:{area_of_triangle}\")\n",
    "\n",
    "# ===================================M-2==========================================\n",
    "\n",
    "#method-2: Keyboard Method\n",
    "b = eval(input(\"enter the breadth:\"))\n",
    "h = eval(input(\"enter the height:\"))\n",
    "area_of_triangle = round(0.5*b*h,2)\n",
    "print(f\"The area of traiangle is:{area_of_triangle}\")\n",
    "\n",
    "# =======================M-3=======================================================\n",
    "\n",
    "#method-3 random method\n",
    "import random\n",
    "b = random.randint(10,100)\n",
    "h = random.randint(10,100)\n",
    "area_of_triangle = round(0.5*b*h,2)\n",
    "print(f\"The area of traiangle is:{area_of_triangle}\")"
   ]
  },
  {
   "cell_type": "code",
   "execution_count": 14,
   "id": "909d0822",
   "metadata": {},
   "outputs": [
    {
     "name": "stdout",
     "output_type": "stream",
     "text": [
      "enter the start value:10\n",
      "enter the end value100\n",
      "The area of triangle is:2046.0\n"
     ]
    }
   ],
   "source": [
    "import random\n",
    "start = eval(input(\"enter the start value:\")) # start =10\n",
    "end = eval(input(\"enter the end value\"))      # end =100\n",
    "breadth = random.randint(start,end)           # (10,100)\n",
    "height = random.randint(start,end)            #(10,100)\n",
    "area_of_triangle = round(0.5*breadth*height,2)\n",
    "print(f\"The area of triangle is:{area_of_triangle}\")"
   ]
  },
  {
   "cell_type": "code",
   "execution_count": 17,
   "id": "4c7af8cf",
   "metadata": {},
   "outputs": [
    {
     "name": "stdout",
     "output_type": "stream",
     "text": [
      "=======================================================\n",
      "Hard coded method starts:\n",
      "The Perimeter of rectangle is:220\n",
      "The area of rectangle is:1000\n",
      "=======================================================\n",
      "Keyboard method starts:\n",
      "enter the breadth:1\n",
      "enter the height:2\n",
      "The Perimeter of rectangle is:6\n",
      "The area of rectangle is:2\n",
      "=======================================================\n",
      "random method starts:\n",
      "The Perimeter of rectangle is:278\n",
      "The area of rectangle is:4128\n"
     ]
    }
   ],
   "source": [
    "# WAP ask the user calculate area of the rectangle \n",
    "# M-1: hard coded\n",
    "# M-2: keyboard\n",
    "# M-3: Random\n",
    "\n",
    "# Formula: 2(l+b)\n",
    "\n",
    "# ==================================M-1===========================================\n",
    "#method-1 : Hard Coded\n",
    "print(\"=======================================================\")\n",
    "print(\"Hard coded method starts:\")\n",
    "length = 10\n",
    "breadth = 100\n",
    "Perimeter = round(2*(length+breadth),2)\n",
    "area = round(length * breadth,2)\n",
    "print(f\"The Perimeter of rectangle is:{Perimeter}\")\n",
    "print(f\"The area of rectangle is:{area}\")\n",
    "# ===================================M-2==========================================\n",
    "\n",
    "#method-2: Keyboard Method\n",
    "\n",
    "print(\"=======================================================\")\n",
    "print(\"Keyboard method starts:\")\n",
    "length = eval(input(\"enter the breadth:\"))\n",
    "breadth = eval(input(\"enter the height:\"))\n",
    "Perimeter  = round(2*(length+breadth),2)\n",
    "area = round(length * breadth,2)\n",
    "print(f\"The Perimeter of rectangle is:{Perimeter}\")\n",
    "print(f\"The area of rectangle is:{area}\")\n",
    "# =======================M-3=======================================================\n",
    "\n",
    "#method-3 random method\n",
    "print(\"=======================================================\")\n",
    "print(\"random method starts:\")\n",
    "import random\n",
    "length = random.randint(10,100)\n",
    "breadth = random.randint(10,100)\n",
    "Perimeter = round(2*(length+breadth),2)\n",
    "area = round(length * breadth,2)\n",
    "print(f\"The Perimeter of rectangle is:{Perimeter}\")\n",
    "print(f\"The area of rectangle is:{area}\")"
   ]
  },
  {
   "cell_type": "code",
   "execution_count": 20,
   "id": "c4d27eaa",
   "metadata": {},
   "outputs": [
    {
     "name": "stdout",
     "output_type": "stream",
     "text": [
      "=======================================================\n",
      "Hard coded method starts:\n",
      "The volume of cylinder is:31415.93\n",
      "=======================================================\n",
      "Keyboard method starts:\n",
      "enter the radius:20\n",
      "enter the height:30\n",
      "The volume of cylinder is:37699.11\n",
      "=======================================================\n",
      "random method starts:\n",
      "The volume of cylinder is:280773.56\n"
     ]
    }
   ],
   "source": [
    "# wap ask the user calculate volume of the cylinder\n",
    "# Formula: pi*r*r*h\n",
    "\n",
    "import random\n",
    "import math\n",
    "#method-1 : Hard Coded\n",
    "print(\"=======================================================\")\n",
    "print(\"Hard coded method starts:\")\n",
    "math.pi= pi\n",
    "r=10\n",
    "h=100\n",
    "Volume = round(pi*r*r*h,2)\n",
    "print(f\"The volume of cylinder is:{Volume}\")\n",
    "\n",
    "#method-2: Keyboard Method\n",
    "print(\"=======================================================\")\n",
    "print(\"Keyboard method starts:\")\n",
    "r = eval(input(\"enter the radius:\"))\n",
    "h = eval(input(\"enter the height:\"))\n",
    "Volume = round(pi*r*r*h,2)\n",
    "print(f\"The volume of cylinder is:{Volume}\")\n",
    "\n",
    "\n",
    "#method-3 random method\n",
    "print(\"=======================================================\")\n",
    "print(\"random method starts:\")\n",
    "r = random.randint(10,100)\n",
    "h = random.randint(10,100)\n",
    "Volume = round(pi*r*r*h,2)\n",
    "print(f\"The volume of cylinder is:{Volume}\")"
   ]
  },
  {
   "cell_type": "code",
   "execution_count": 22,
   "id": "d13997e4",
   "metadata": {},
   "outputs": [],
   "source": [
    "# **Conversation between mother, daughter and conductor**\n",
    "\n",
    "# daughter:Hey mom\n",
    "# Mom: Hello\n",
    "# D: Mom do you know TS govt implemented free bus ride\n",
    "# Mom: Oh wow super\n",
    "# D: Lets go to granny home\n",
    "# Conductor : Where you want to go\n",
    "# Conductor: show me ID Card\n",
    "# Mom: How much per km\n",
    "# Con: 5rs ==================================v1\n",
    "#mom: how many kms\n",
    "# Cond: 1000km ==============================v2\n",
    "# Mom: How much money\n",
    "# Cond: 5*100 =500 =========================v3\n",
    "# D: I have id card\n",
    "# Cond: Enjoy the free ride"
   ]
  },
  {
   "cell_type": "code",
   "execution_count": 23,
   "id": "6937c0ae",
   "metadata": {},
   "outputs": [
    {
     "name": "stdout",
     "output_type": "stream",
     "text": [
      "Daughter:Hey mom\n"
     ]
    },
    {
     "data": {
      "text/plain": [
       "'Hey mom'"
      ]
     },
     "execution_count": 23,
     "metadata": {},
     "output_type": "execute_result"
    }
   ],
   "source": [
    "input(\"Daughter:\")\n",
    "input(\"Mom:\")\n",
    "input(\"Daughter:\")\n",
    "input(\"Mom\")\n",
    "input(\"Daughter:\")\n",
    "input(\"Mom:\")\n",
    "input(\"Daughter:\")\n",
    "input(\"Mom\")\n",
    "input(\"Daughter:\")\n",
    "input(\"Mom:\")\n",
    "input(\"Daughter:\")\n",
    "input(\"Mom\")\n",
    "input(\"Daughter:\")\n",
    "input(\"Mom:\")\n",
    "input(\"Daughter:\")\n",
    "input(\"Mom\")"
   ]
  },
  {
   "cell_type": "code",
   "execution_count": null,
   "id": "a5adb332",
   "metadata": {},
   "outputs": [],
   "source": []
  }
 ],
 "metadata": {
  "kernelspec": {
   "display_name": "Python 3 (ipykernel)",
   "language": "python",
   "name": "python3"
  },
  "language_info": {
   "codemirror_mode": {
    "name": "ipython",
    "version": 3
   },
   "file_extension": ".py",
   "mimetype": "text/x-python",
   "name": "python",
   "nbconvert_exporter": "python",
   "pygments_lexer": "ipython3",
   "version": "3.11.7"
  }
 },
 "nbformat": 4,
 "nbformat_minor": 5
}
