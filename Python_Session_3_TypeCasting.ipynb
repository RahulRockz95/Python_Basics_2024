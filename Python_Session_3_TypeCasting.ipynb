{
 "cells": [
  {
   "cell_type": "markdown",
   "id": "a958d738",
   "metadata": {},
   "source": [
    "**TypeCasting**\n",
    "\n",
    "- Convert one data type to other data type\n",
    "\n",
    "- Integer\n",
    "\n",
    "- Float\n",
    "\n",
    "- String\n",
    "\n",
    "- Boolean\n",
    "\n",
    "\n",
    "** Integer to all other data types**\n",
    "\n",
    "- Integer to float\n",
    "\n",
    "- integer to string\n",
    "\n",
    "- Integer to Boolean"
   ]
  },
  {
   "cell_type": "code",
   "execution_count": 2,
   "id": "04ef4d0d",
   "metadata": {},
   "outputs": [
    {
     "data": {
      "text/plain": [
       "int"
      ]
     },
     "execution_count": 2,
     "metadata": {},
     "output_type": "execute_result"
    }
   ],
   "source": [
    "num=100\n",
    "type(num)"
   ]
  },
  {
   "cell_type": "code",
   "execution_count": 3,
   "id": "446f6ef9",
   "metadata": {},
   "outputs": [
    {
     "data": {
      "text/plain": [
       "100.0"
      ]
     },
     "execution_count": 3,
     "metadata": {},
     "output_type": "execute_result"
    }
   ],
   "source": [
    "num_float=float(num)\n",
    "num_float"
   ]
  },
  {
   "cell_type": "code",
   "execution_count": 8,
   "id": "1d262420",
   "metadata": {},
   "outputs": [
    {
     "data": {
      "text/plain": [
       "(int, float)"
      ]
     },
     "execution_count": 8,
     "metadata": {},
     "output_type": "execute_result"
    }
   ],
   "source": [
    "type(num),type(num_float) # int to float"
   ]
  },
  {
   "cell_type": "markdown",
   "id": "df7f6991",
   "metadata": {},
   "source": [
    "$int-$str"
   ]
  },
  {
   "cell_type": "code",
   "execution_count": 4,
   "id": "7e9c90d1",
   "metadata": {},
   "outputs": [
    {
     "data": {
      "text/plain": [
       "'100'"
      ]
     },
     "execution_count": 4,
     "metadata": {},
     "output_type": "execute_result"
    }
   ],
   "source": [
    "num_str=str(num)\n",
    "num_str"
   ]
  },
  {
   "cell_type": "code",
   "execution_count": 12,
   "id": "8919a274",
   "metadata": {},
   "outputs": [
    {
     "data": {
      "text/plain": [
       "(100, 100.0, '100')"
      ]
     },
     "execution_count": 12,
     "metadata": {},
     "output_type": "execute_result"
    }
   ],
   "source": [
    "num,num_float,num_str"
   ]
  },
  {
   "cell_type": "code",
   "execution_count": 13,
   "id": "5169b37d",
   "metadata": {},
   "outputs": [
    {
     "data": {
      "text/plain": [
       "(int, float, str)"
      ]
     },
     "execution_count": 13,
     "metadata": {},
     "output_type": "execute_result"
    }
   ],
   "source": [
    "type(num),type(num_float),type(num_str)"
   ]
  },
  {
   "cell_type": "markdown",
   "id": "b612e2c1",
   "metadata": {},
   "source": [
    "$int - $bool"
   ]
  },
  {
   "cell_type": "code",
   "execution_count": 5,
   "id": "1fab5784",
   "metadata": {},
   "outputs": [
    {
     "data": {
      "text/plain": [
       "True"
      ]
     },
     "execution_count": 5,
     "metadata": {},
     "output_type": "execute_result"
    }
   ],
   "source": [
    "num_bool=bool(num)\n",
    "num_bool"
   ]
  },
  {
   "cell_type": "code",
   "execution_count": 16,
   "id": "8c28259d",
   "metadata": {},
   "outputs": [
    {
     "data": {
      "text/plain": [
       "(100, 100.0, '100', True)"
      ]
     },
     "execution_count": 16,
     "metadata": {},
     "output_type": "execute_result"
    }
   ],
   "source": [
    "num,num_float,num_str,num_bool"
   ]
  },
  {
   "cell_type": "code",
   "execution_count": 17,
   "id": "83257e1e",
   "metadata": {},
   "outputs": [
    {
     "data": {
      "text/plain": [
       "(int, float, str, bool)"
      ]
     },
     "execution_count": 17,
     "metadata": {},
     "output_type": "execute_result"
    }
   ],
   "source": [
    "type(num),type(num_float),type(num_str),type(num_bool)"
   ]
  },
  {
   "cell_type": "code",
   "execution_count": 6,
   "id": "2ad399cd",
   "metadata": {},
   "outputs": [
    {
     "data": {
      "text/plain": [
       "(True, True, False, False)"
      ]
     },
     "execution_count": 6,
     "metadata": {},
     "output_type": "execute_result"
    }
   ],
   "source": [
    "bool(100),bool(-100),bool(0),bool(0.0)"
   ]
  },
  {
   "cell_type": "markdown",
   "id": "d442465c",
   "metadata": {},
   "source": [
    "**Note**\n",
    "\n",
    "- Boolean conversion of zero becomes false\n",
    "\n",
    "- Boolean conversion of +ve integer and -ve integer numbers gives True"
   ]
  },
  {
   "cell_type": "code",
   "execution_count": 7,
   "id": "181e60d0",
   "metadata": {},
   "outputs": [
    {
     "data": {
      "text/plain": [
       "100"
      ]
     },
     "execution_count": 7,
     "metadata": {},
     "output_type": "execute_result"
    }
   ],
   "source": [
    "# float to other data types\n",
    "\n",
    "#float to integer\n",
    "num2=100.25\n",
    "int(num2)"
   ]
  },
  {
   "cell_type": "code",
   "execution_count": 25,
   "id": "32af978c",
   "metadata": {},
   "outputs": [
    {
     "data": {
      "text/plain": [
       "100"
      ]
     },
     "execution_count": 25,
     "metadata": {},
     "output_type": "execute_result"
    }
   ],
   "source": [
    "num2=100.25\n",
    "int(num2)"
   ]
  },
  {
   "cell_type": "code",
   "execution_count": 26,
   "id": "ae50da6e",
   "metadata": {},
   "outputs": [
    {
     "data": {
      "text/plain": [
       "'100.25'"
      ]
     },
     "execution_count": 26,
     "metadata": {},
     "output_type": "execute_result"
    }
   ],
   "source": [
    "#float to string\n",
    "num2 = 100.25\n",
    "str(num2)"
   ]
  },
  {
   "cell_type": "code",
   "execution_count": 27,
   "id": "7f8f8dbf",
   "metadata": {},
   "outputs": [
    {
     "data": {
      "text/plain": [
       "True"
      ]
     },
     "execution_count": 27,
     "metadata": {},
     "output_type": "execute_result"
    }
   ],
   "source": [
    "# float to boolean\n",
    "num2=100.25\n",
    "bool(num2)"
   ]
  },
  {
   "cell_type": "code",
   "execution_count": 28,
   "id": "ccd6b4c3",
   "metadata": {},
   "outputs": [
    {
     "data": {
      "text/plain": [
       "(100, '100.25', True, False)"
      ]
     },
     "execution_count": 28,
     "metadata": {},
     "output_type": "execute_result"
    }
   ],
   "source": [
    "int(num2),str(num2),bool(num2),bool(0.0)"
   ]
  },
  {
   "cell_type": "code",
   "execution_count": 11,
   "id": "d6878084",
   "metadata": {},
   "outputs": [
    {
     "ename": "ValueError",
     "evalue": "invalid literal for int() with base 10: '100.25'",
     "output_type": "error",
     "traceback": [
      "\u001b[1;31m---------------------------------------------------------------------------\u001b[0m",
      "\u001b[1;31mValueError\u001b[0m                                Traceback (most recent call last)",
      "Cell \u001b[1;32mIn[11], line 1\u001b[0m\n\u001b[1;32m----> 1\u001b[0m \u001b[38;5;28mint\u001b[39m(\u001b[38;5;124m'\u001b[39m\u001b[38;5;124m100.25\u001b[39m\u001b[38;5;124m'\u001b[39m)\n",
      "\u001b[1;31mValueError\u001b[0m: invalid literal for int() with base 10: '100.25'"
     ]
    }
   ],
   "source": [
    "int('100.25') # 100\n",
    "\n",
    "# str(100.25) #'100.25'\n",
    "\n",
    "# bool(100.25) #True\n",
    "\n",
    "# bool(0.0) # False "
   ]
  },
  {
   "cell_type": "markdown",
   "id": "67644fee",
   "metadata": {},
   "source": [
    "**String to all other data types**"
   ]
  },
  {
   "cell_type": "code",
   "execution_count": 36,
   "id": "d564dc5d",
   "metadata": {},
   "outputs": [
    {
     "data": {
      "text/plain": [
       "100"
      ]
     },
     "execution_count": 36,
     "metadata": {},
     "output_type": "execute_result"
    }
   ],
   "source": [
    "# Case 1:String to all other\n",
    "int('100') "
   ]
  },
  {
   "cell_type": "code",
   "execution_count": 37,
   "id": "2a1faf8d",
   "metadata": {},
   "outputs": [
    {
     "data": {
      "text/plain": [
       "100.0"
      ]
     },
     "execution_count": 37,
     "metadata": {},
     "output_type": "execute_result"
    }
   ],
   "source": [
    "float('100')"
   ]
  },
  {
   "cell_type": "code",
   "execution_count": 38,
   "id": "d5f50ae3",
   "metadata": {},
   "outputs": [
    {
     "data": {
      "text/plain": [
       "'100'"
      ]
     },
     "execution_count": 38,
     "metadata": {},
     "output_type": "execute_result"
    }
   ],
   "source": [
    "str('100')"
   ]
  },
  {
   "cell_type": "code",
   "execution_count": 31,
   "id": "013db12d",
   "metadata": {},
   "outputs": [
    {
     "ename": "ValueError",
     "evalue": "invalid literal for int() with base 10: '100.25'",
     "output_type": "error",
     "traceback": [
      "\u001b[1;31m---------------------------------------------------------------------------\u001b[0m",
      "\u001b[1;31mValueError\u001b[0m                                Traceback (most recent call last)",
      "Cell \u001b[1;32mIn[31], line 1\u001b[0m\n\u001b[1;32m----> 1\u001b[0m \u001b[38;5;28mint\u001b[39m(\u001b[38;5;124m'\u001b[39m\u001b[38;5;124m100.25\u001b[39m\u001b[38;5;124m'\u001b[39m)\n",
      "\u001b[1;31mValueError\u001b[0m: invalid literal for int() with base 10: '100.25'"
     ]
    }
   ],
   "source": [
    "int('100.25') # Fails int keeping in string"
   ]
  },
  {
   "cell_type": "code",
   "execution_count": 33,
   "id": "b38f89ca",
   "metadata": {},
   "outputs": [
    {
     "data": {
      "text/plain": [
       "100.25"
      ]
     },
     "execution_count": 33,
     "metadata": {},
     "output_type": "execute_result"
    }
   ],
   "source": [
    "float('100.25')"
   ]
  },
  {
   "cell_type": "code",
   "execution_count": 34,
   "id": "6aa16a61",
   "metadata": {},
   "outputs": [
    {
     "data": {
      "text/plain": [
       "'100.25'"
      ]
     },
     "execution_count": 34,
     "metadata": {},
     "output_type": "execute_result"
    }
   ],
   "source": [
    "str('100.25')"
   ]
  },
  {
   "cell_type": "markdown",
   "id": "d7dbed7d",
   "metadata": {},
   "source": [
    "**Note**\n",
    "\n",
    "- int conversionof float value in string format will fail\n",
    "\n",
    "- int(100) # Works \n",
    "\n",
    "- int('100.25') # Fails opp data type fails"
   ]
  },
  {
   "cell_type": "markdown",
   "id": "5c68294b",
   "metadata": {},
   "source": [
    "int(100) # Works \n",
    "\n",
    "int(200) # Works 200\n",
    "\n",
    "int('300') # Works 300"
   ]
  },
  {
   "cell_type": "code",
   "execution_count": 39,
   "id": "063ba8b4",
   "metadata": {},
   "outputs": [
    {
     "data": {
      "text/plain": [
       "(100.0, 100.25, 100.0, 100.25)"
      ]
     },
     "execution_count": 39,
     "metadata": {},
     "output_type": "execute_result"
    }
   ],
   "source": [
    "float(100), float(100.25), float('100'),float('100.25')"
   ]
  },
  {
   "cell_type": "markdown",
   "id": "0e88d16f",
   "metadata": {},
   "source": [
    "- int will accept the float value # int(100.25) works\n",
    "\n",
    "- int will not accept the float value in string format int('100.25') fails"
   ]
  },
  {
   "cell_type": "markdown",
   "id": "1355060b",
   "metadata": {},
   "source": [
    "**Case-3**"
   ]
  },
  {
   "cell_type": "code",
   "execution_count": 12,
   "id": "c9f0db51",
   "metadata": {},
   "outputs": [
    {
     "ename": "ValueError",
     "evalue": "invalid literal for int() with base 10: 'python'",
     "output_type": "error",
     "traceback": [
      "\u001b[1;31m---------------------------------------------------------------------------\u001b[0m",
      "\u001b[1;31mValueError\u001b[0m                                Traceback (most recent call last)",
      "Cell \u001b[1;32mIn[12], line 1\u001b[0m\n\u001b[1;32m----> 1\u001b[0m \u001b[38;5;28mint\u001b[39m(\u001b[38;5;124m'\u001b[39m\u001b[38;5;124mpython\u001b[39m\u001b[38;5;124m'\u001b[39m),\u001b[38;5;28mfloat\u001b[39m(\u001b[38;5;124m'\u001b[39m\u001b[38;5;124mpython\u001b[39m\u001b[38;5;124m'\u001b[39m)\n",
      "\u001b[1;31mValueError\u001b[0m: invalid literal for int() with base 10: 'python'"
     ]
    }
   ],
   "source": [
    "int('python'),float('python')"
   ]
  },
  {
   "cell_type": "code",
   "execution_count": 41,
   "id": "e5cd37ba",
   "metadata": {},
   "outputs": [
    {
     "data": {
      "text/plain": [
       "True"
      ]
     },
     "execution_count": 41,
     "metadata": {},
     "output_type": "execute_result"
    }
   ],
   "source": [
    "bool('python')"
   ]
  },
  {
   "cell_type": "code",
   "execution_count": 14,
   "id": "10f97ece",
   "metadata": {},
   "outputs": [
    {
     "data": {
      "text/plain": [
       "(True, True, True, True, True, True, True, False, False, False)"
      ]
     },
     "execution_count": 14,
     "metadata": {},
     "output_type": "execute_result"
    }
   ],
   "source": [
    "bool('100'), bool('100.25'), bool('0'),bool('0.0'), bool('python'),bool(100), bool(-100),bool(0),bool(0.0),bool('')"
   ]
  },
  {
   "cell_type": "markdown",
   "id": "ed64456e",
   "metadata": {},
   "source": [
    "**Boolean  to  All other data types**"
   ]
  },
  {
   "cell_type": "code",
   "execution_count": 61,
   "id": "a9a00601",
   "metadata": {},
   "outputs": [
    {
     "data": {
      "text/plain": [
       "(True, True, True, True, True)"
      ]
     },
     "execution_count": 61,
     "metadata": {},
     "output_type": "execute_result"
    }
   ],
   "source": [
    "bool(100),bool(100.25),bool('100'),bool(True),bool('100.25')"
   ]
  },
  {
   "cell_type": "code",
   "execution_count": 60,
   "id": "affbc40c",
   "metadata": {},
   "outputs": [
    {
     "data": {
      "text/plain": [
       "(100, 1, 0, 100)"
      ]
     },
     "execution_count": 60,
     "metadata": {},
     "output_type": "execute_result"
    }
   ],
   "source": [
    "int(100), int(True),int(False),int(100.25)"
   ]
  },
  {
   "cell_type": "code",
   "execution_count": 58,
   "id": "226d2524",
   "metadata": {},
   "outputs": [
    {
     "data": {
      "text/plain": [
       "(100.0, 100.25, 1.0, 0.0)"
      ]
     },
     "execution_count": 58,
     "metadata": {},
     "output_type": "execute_result"
    }
   ],
   "source": [
    "float(100),float('100.25'),float(True),float(False)"
   ]
  },
  {
   "cell_type": "code",
   "execution_count": 59,
   "id": "b869c352",
   "metadata": {},
   "outputs": [
    {
     "data": {
      "text/plain": [
       "('100', '100.25', 'True', 'False')"
      ]
     },
     "execution_count": 59,
     "metadata": {},
     "output_type": "execute_result"
    }
   ],
   "source": [
    "str(100),str('100.25'),str(True),str(False)"
   ]
  },
  {
   "cell_type": "code",
   "execution_count": null,
   "id": "4e2bb5f3",
   "metadata": {},
   "outputs": [],
   "source": [
    "# avoid syntax error\n",
    "# develop logics"
   ]
  },
  {
   "cell_type": "code",
   "execution_count": 1,
   "id": "ed255ad3",
   "metadata": {},
   "outputs": [
    {
     "data": {
      "text/plain": [
       "True"
      ]
     },
     "execution_count": 1,
     "metadata": {},
     "output_type": "execute_result"
    }
   ],
   "source": [
    "bool('100')"
   ]
  },
  {
   "cell_type": "code",
   "execution_count": 2,
   "id": "e89554ca",
   "metadata": {},
   "outputs": [
    {
     "data": {
      "text/plain": [
       "True"
      ]
     },
     "execution_count": 2,
     "metadata": {},
     "output_type": "execute_result"
    }
   ],
   "source": [
    "bool('100.25')"
   ]
  },
  {
   "cell_type": "code",
   "execution_count": 3,
   "id": "47dce1a7",
   "metadata": {},
   "outputs": [
    {
     "data": {
      "text/plain": [
       "True"
      ]
     },
     "execution_count": 3,
     "metadata": {},
     "output_type": "execute_result"
    }
   ],
   "source": [
    "bool('0')"
   ]
  },
  {
   "cell_type": "code",
   "execution_count": 5,
   "id": "82186935",
   "metadata": {},
   "outputs": [
    {
     "data": {
      "text/plain": [
       "True"
      ]
     },
     "execution_count": 5,
     "metadata": {},
     "output_type": "execute_result"
    }
   ],
   "source": [
    "bool('0.0')"
   ]
  },
  {
   "cell_type": "code",
   "execution_count": 6,
   "id": "db10dc76",
   "metadata": {},
   "outputs": [
    {
     "data": {
      "text/plain": [
       "True"
      ]
     },
     "execution_count": 6,
     "metadata": {},
     "output_type": "execute_result"
    }
   ],
   "source": [
    "bool('python')"
   ]
  },
  {
   "cell_type": "code",
   "execution_count": 12,
   "id": "4050ac21",
   "metadata": {},
   "outputs": [
    {
     "data": {
      "text/plain": [
       "True"
      ]
     },
     "execution_count": 12,
     "metadata": {},
     "output_type": "execute_result"
    }
   ],
   "source": [
    "bool(-100)"
   ]
  },
  {
   "cell_type": "code",
   "execution_count": 8,
   "id": "24caaeae",
   "metadata": {},
   "outputs": [
    {
     "data": {
      "text/plain": [
       "True"
      ]
     },
     "execution_count": 8,
     "metadata": {},
     "output_type": "execute_result"
    }
   ],
   "source": [
    "bool(100.25)"
   ]
  },
  {
   "cell_type": "code",
   "execution_count": 9,
   "id": "72dee763",
   "metadata": {},
   "outputs": [
    {
     "data": {
      "text/plain": [
       "False"
      ]
     },
     "execution_count": 9,
     "metadata": {},
     "output_type": "execute_result"
    }
   ],
   "source": [
    "bool(0)"
   ]
  },
  {
   "cell_type": "code",
   "execution_count": 10,
   "id": "43fd646c",
   "metadata": {},
   "outputs": [
    {
     "data": {
      "text/plain": [
       "False"
      ]
     },
     "execution_count": 10,
     "metadata": {},
     "output_type": "execute_result"
    }
   ],
   "source": [
    "bool(0.0)"
   ]
  },
  {
   "cell_type": "code",
   "execution_count": 11,
   "id": "0fc1d6e1",
   "metadata": {},
   "outputs": [
    {
     "data": {
      "text/plain": [
       "False"
      ]
     },
     "execution_count": 11,
     "metadata": {},
     "output_type": "execute_result"
    }
   ],
   "source": [
    "bool('')"
   ]
  },
  {
   "cell_type": "code",
   "execution_count": 13,
   "id": "1fb33e9e",
   "metadata": {},
   "outputs": [
    {
     "data": {
      "text/plain": [
       "100"
      ]
     },
     "execution_count": 13,
     "metadata": {},
     "output_type": "execute_result"
    }
   ],
   "source": [
    "int(100.25)"
   ]
  },
  {
   "cell_type": "code",
   "execution_count": 14,
   "id": "a95190db",
   "metadata": {},
   "outputs": [
    {
     "ename": "ValueError",
     "evalue": "invalid literal for int() with base 10: '100.25'",
     "output_type": "error",
     "traceback": [
      "\u001b[1;31m---------------------------------------------------------------------------\u001b[0m",
      "\u001b[1;31mValueError\u001b[0m                                Traceback (most recent call last)",
      "Cell \u001b[1;32mIn[14], line 1\u001b[0m\n\u001b[1;32m----> 1\u001b[0m \u001b[38;5;28mint\u001b[39m(\u001b[38;5;124m'\u001b[39m\u001b[38;5;124m100.25\u001b[39m\u001b[38;5;124m'\u001b[39m)\n",
      "\u001b[1;31mValueError\u001b[0m: invalid literal for int() with base 10: '100.25'"
     ]
    }
   ],
   "source": [
    "int('100.25')"
   ]
  },
  {
   "cell_type": "code",
   "execution_count": null,
   "id": "bcc7968b",
   "metadata": {},
   "outputs": [],
   "source": []
  }
 ],
 "metadata": {
  "kernelspec": {
   "display_name": "Python 3 (ipykernel)",
   "language": "python",
   "name": "python3"
  },
  "language_info": {
   "codemirror_mode": {
    "name": "ipython",
    "version": 3
   },
   "file_extension": ".py",
   "mimetype": "text/x-python",
   "name": "python",
   "nbconvert_exporter": "python",
   "pygments_lexer": "ipython3",
   "version": "3.11.7"
  }
 },
 "nbformat": 4,
 "nbformat_minor": 5
}
