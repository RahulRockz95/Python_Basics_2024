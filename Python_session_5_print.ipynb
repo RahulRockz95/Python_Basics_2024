{
 "cells": [
  {
   "cell_type": "code",
   "execution_count": null,
   "id": "3d77d255",
   "metadata": {},
   "outputs": [],
   "source": [
    "# Print is used to see some answers\n",
    "# In jupiter notebook, we no need to provide print statement in order to see the answer\n",
    "# if more than 2 answers are there, we can check all answers using print statements"
   ]
  },
  {
   "cell_type": "code",
   "execution_count": 1,
   "id": "eb5313d6",
   "metadata": {},
   "outputs": [
    {
     "data": {
      "text/plain": [
       "10"
      ]
     },
     "execution_count": 1,
     "metadata": {},
     "output_type": "execute_result"
    }
   ],
   "source": [
    "a=10\n",
    "a"
   ]
  },
  {
   "cell_type": "code",
   "execution_count": 2,
   "id": "5a49fd46",
   "metadata": {},
   "outputs": [
    {
     "name": "stdout",
     "output_type": "stream",
     "text": [
      "10\n"
     ]
    }
   ],
   "source": [
    "print(a)"
   ]
  },
  {
   "cell_type": "code",
   "execution_count": 4,
   "id": "284b536a",
   "metadata": {},
   "outputs": [
    {
     "data": {
      "text/plain": [
       "20"
      ]
     },
     "execution_count": 4,
     "metadata": {},
     "output_type": "execute_result"
    }
   ],
   "source": [
    "a=10\n",
    "b=20\n",
    "a\n",
    "b"
   ]
  },
  {
   "cell_type": "code",
   "execution_count": 4,
   "id": "2a69bb5d",
   "metadata": {},
   "outputs": [
    {
     "name": "stdout",
     "output_type": "stream",
     "text": [
      "10\n",
      "20\n"
     ]
    }
   ],
   "source": [
    "a=10\n",
    "b=20\n",
    "print(a)\n",
    "print(b)"
   ]
  },
  {
   "cell_type": "code",
   "execution_count": 5,
   "id": "d78dca7c",
   "metadata": {},
   "outputs": [
    {
     "name": "stdout",
     "output_type": "stream",
     "text": [
      "10\n",
      "10 20\n",
      "python\n",
      "10 20 python\n"
     ]
    }
   ],
   "source": [
    "print(10)\n",
    "print(10,20)\n",
    "print('python')\n",
    "print(10,20,'python')"
   ]
  },
  {
   "cell_type": "code",
   "execution_count": 8,
   "id": "05b19b20",
   "metadata": {},
   "outputs": [
    {
     "name": "stdout",
     "output_type": "stream",
     "text": [
      "50\n",
      "50\n"
     ]
    }
   ],
   "source": [
    "num1=20\n",
    "num2=30\n",
    "add=num1+num2\n",
    "print(add)\n",
    "print(num1+num2)\n",
    "print(add=num1+num2) # Not works\n",
    "# the addition of 20 and 30 is 50"
   ]
  },
  {
   "cell_type": "code",
   "execution_count": 8,
   "id": "b0ce9ddc",
   "metadata": {},
   "outputs": [
    {
     "name": "stdout",
     "output_type": "stream",
     "text": [
      "60\n"
     ]
    }
   ],
   "source": [
    "num1=20\n",
    "num2=40\n",
    "add=num1+num2\n",
    "print(add)\n",
    "# print(add=num+num2)"
   ]
  },
  {
   "cell_type": "code",
   "execution_count": 10,
   "id": "78b9fb1a",
   "metadata": {},
   "outputs": [
    {
     "name": "stdout",
     "output_type": "stream",
     "text": [
      "the addition of 20 and 30 is 50\n"
     ]
    }
   ],
   "source": [
    "num1=20\n",
    "num2=30\n",
    "add=num1+num2\n",
    "print('the addition of',num1,'and',num2,'is',add)\n",
    "\n",
    "# print(\"the addition of 20 and 30 is 50\") # dont use this"
   ]
  },
  {
   "cell_type": "code",
   "execution_count": 11,
   "id": "14c8abdf",
   "metadata": {},
   "outputs": [
    {
     "name": "stdout",
     "output_type": "stream",
     "text": [
      "hello my name is python im 10 years old from hyd\n"
     ]
    }
   ],
   "source": [
    "name ='python'\n",
    "age=10\n",
    "city='hyd'\n",
    "#hello my name is python, im 10 years old from hyd\n",
    "print('hello my name is',name,'im',age,'years old from',city)"
   ]
  },
  {
   "cell_type": "markdown",
   "id": "17b3c955",
   "metadata": {},
   "source": [
    "**format method**"
   ]
  },
  {
   "cell_type": "code",
   "execution_count": 10,
   "id": "7ceb5513",
   "metadata": {},
   "outputs": [
    {
     "name": "stdout",
     "output_type": "stream",
     "text": [
      "the addition of 345 and num2is 1023\n",
      "the addition of 345 and 678 is 1023\n"
     ]
    }
   ],
   "source": [
    "num1=345\n",
    "num2=678\n",
    "add=num1+num2\n",
    "# print('the addition of',num1,'and',num2,'is',add)\n",
    "print('the addition of',num1,'and','num2' 'is', add)\n",
    "\n",
    "\n",
    "print(\"the addition of {} and {} is {}\".format(num1,num2,add))"
   ]
  },
  {
   "cell_type": "markdown",
   "id": "7373e444",
   "metadata": {},
   "source": [
    "- First Decide how the print statement should be\n",
    "- Then replace the variables position as curly braces\n",
    "- Then apply .format method"
   ]
  },
  {
   "cell_type": "code",
   "execution_count": 15,
   "id": "228827e3",
   "metadata": {},
   "outputs": [
    {
     "name": "stdout",
     "output_type": "stream",
     "text": [
      "hello my name is python, im 10 years old from hyd\n",
      "hello my name is python, im 10 years old from hyd\n"
     ]
    }
   ],
   "source": [
    "name ='python'\n",
    "age=10\n",
    "city='hyd'\n",
    "print('hello my name is python, im 10 years old from hyd')\n",
    "print(\"hello my name is {}, im {} years old from {}\".format(name,age,city))"
   ]
  },
  {
   "cell_type": "code",
   "execution_count": 13,
   "id": "3ff6c86c",
   "metadata": {},
   "outputs": [
    {
     "name": "stdout",
     "output_type": "stream",
     "text": [
      "the average of num1,num2 and num3 is:avg\n",
      "the average of 100 and 67 is 85.33333333333333\n"
     ]
    }
   ],
   "source": [
    "num1=100\n",
    "num2=67\n",
    "num3=89\n",
    "avg=(num1+num2+num3)/3\n",
    "print(\"the average of num1,num2 and num3 is:avg\")\n",
    "print(\"the average of {},{} and {} is:{}\". format(num1,num2,num3,avg))"
   ]
  },
  {
   "cell_type": "markdown",
   "id": "2d1a7e58",
   "metadata": {},
   "source": [
    "**round off method** "
   ]
  },
  {
   "cell_type": "code",
   "execution_count": 22,
   "id": "f8379947",
   "metadata": {},
   "outputs": [
    {
     "data": {
      "text/plain": [
       "50.67"
      ]
     },
     "execution_count": 22,
     "metadata": {},
     "output_type": "execute_result"
    }
   ],
   "source": [
    "val=50.666666666666664\n",
    "round(val,2)"
   ]
  },
  {
   "cell_type": "code",
   "execution_count": 23,
   "id": "e24a0b2a",
   "metadata": {},
   "outputs": [
    {
     "name": "stdout",
     "output_type": "stream",
     "text": [
      "the average of num1,num2 and num3 is:avg\n",
      "the average of 100,22 and 30 is:51\n"
     ]
    }
   ],
   "source": [
    "num1=100\n",
    "num2=22\n",
    "num3=30\n",
    "avg=(num1+num2+num3)/3\n",
    "avg1=round(avg)\n",
    "print(\"the average of num1,num2 and num3 is:avg\")\n",
    "print(\"the average of {},{} and {} is:{}\". format(num1,num2,num3,avg1))"
   ]
  },
  {
   "cell_type": "markdown",
   "id": "0c648fd9",
   "metadata": {},
   "source": [
    "**f-string method**\n",
    "\n",
    "- variables should be inside the curly braces\n",
    "- and write everything inside quotes \n",
    "- at starting add f"
   ]
  },
  {
   "cell_type": "code",
   "execution_count": 26,
   "id": "835f23a2",
   "metadata": {},
   "outputs": [
    {
     "name": "stdout",
     "output_type": "stream",
     "text": [
      "the addition of 200 and 300 is: 500\n"
     ]
    }
   ],
   "source": [
    "num1=200\n",
    "num2=300\n",
    "add=num1+num2\n",
    "print(f\"the addition of {num1} and {num2} is: {add}\")"
   ]
  },
  {
   "cell_type": "markdown",
   "id": "dcbf8d84",
   "metadata": {},
   "source": [
    "- f-string method is best method in real time"
   ]
  },
  {
   "cell_type": "code",
   "execution_count": 29,
   "id": "ebd75ca5",
   "metadata": {},
   "outputs": [
    {
     "name": "stdout",
     "output_type": "stream",
     "text": [
      "the average of 100,22 and 30 is:50.666666666666664\n"
     ]
    }
   ],
   "source": [
    "num1=100\n",
    "num2=22\n",
    "num3=30\n",
    "avg=(num1+num2+num3)/3\n",
    "avg1=round(avg)\n",
    "\n",
    "print(f\"the average of {num1},{num2} and {num3} is:{avg}\")"
   ]
  },
  {
   "cell_type": "code",
   "execution_count": 30,
   "id": "78d72c59",
   "metadata": {},
   "outputs": [
    {
     "name": "stdout",
     "output_type": "stream",
     "text": [
      "hello my name is python, im 10 years old from hyd\n"
     ]
    }
   ],
   "source": [
    "name ='python'\n",
    "age=10\n",
    "city='hyd'\n",
    "print(f\"hello my name is {name}, im {age} years old from {city}\")"
   ]
  },
  {
   "cell_type": "markdown",
   "id": "835e0a1c",
   "metadata": {},
   "source": [
    "**End Operator**"
   ]
  },
  {
   "cell_type": "code",
   "execution_count": 32,
   "id": "53bf5342",
   "metadata": {},
   "outputs": [
    {
     "name": "stdout",
     "output_type": "stream",
     "text": [
      "hello good morning\n"
     ]
    }
   ],
   "source": [
    "print('hello', end=' ') #1\n",
    "print('good morning')   #2\n",
    "print()\n",
    "\n",
    "#hello good morning"
   ]
  },
  {
   "cell_type": "code",
   "execution_count": 34,
   "id": "ae86261b",
   "metadata": {},
   "outputs": [
    {
     "name": "stdout",
     "output_type": "stream",
     "text": [
      "1 2 3\n"
     ]
    }
   ],
   "source": [
    "print(1,end=' ')\n",
    "print(2,end=' ')\n",
    "print(3)"
   ]
  },
  {
   "cell_type": "markdown",
   "id": "af091033",
   "metadata": {},
   "source": [
    "**Separator**\n",
    "- Inside one print statement we have multiple values \n",
    "- I want to separate these multiple values with anything"
   ]
  },
  {
   "cell_type": "code",
   "execution_count": 37,
   "id": "1aca02db",
   "metadata": {},
   "outputs": [
    {
     "name": "stdout",
     "output_type": "stream",
     "text": [
      "hello hai\n"
     ]
    }
   ],
   "source": [
    "print(\"hello\",\"hai\",sep=' ')\n",
    "# hello & hai"
   ]
  },
  {
   "cell_type": "code",
   "execution_count": 39,
   "id": "b244e0e3",
   "metadata": {},
   "outputs": [
    {
     "name": "stdout",
     "output_type": "stream",
     "text": [
      "3 .\n"
     ]
    }
   ],
   "source": [
    "print(3,'.')"
   ]
  },
  {
   "cell_type": "code",
   "execution_count": 40,
   "id": "abb44ebf",
   "metadata": {},
   "outputs": [
    {
     "name": "stdout",
     "output_type": "stream",
     "text": [
      "3.\n"
     ]
    }
   ],
   "source": [
    "print(3,'.',sep='')"
   ]
  },
  {
   "cell_type": "markdown",
   "id": "e4d27831",
   "metadata": {},
   "source": [
    "we completed \n",
    "- format\n",
    "- f-string\n",
    "- end - multiple print statements \n",
    "- sep - single print, multiple values"
   ]
  },
  {
   "cell_type": "code",
   "execution_count": 14,
   "id": "f5f7067c",
   "metadata": {},
   "outputs": [
    {
     "name": "stdout",
     "output_type": "stream",
     "text": [
      "123.\n"
     ]
    }
   ],
   "source": [
    "# print(1,2,end=' @ ')\n",
    "print(1,2,3,'.',sep='')"
   ]
  },
  {
   "cell_type": "code",
   "execution_count": null,
   "id": "db26c082",
   "metadata": {},
   "outputs": [],
   "source": []
  }
 ],
 "metadata": {
  "kernelspec": {
   "display_name": "Python 3 (ipykernel)",
   "language": "python",
   "name": "python3"
  },
  "language_info": {
   "codemirror_mode": {
    "name": "ipython",
    "version": 3
   },
   "file_extension": ".py",
   "mimetype": "text/x-python",
   "name": "python",
   "nbconvert_exporter": "python",
   "pygments_lexer": "ipython3",
   "version": "3.11.7"
  }
 },
 "nbformat": 4,
 "nbformat_minor": 5
}
