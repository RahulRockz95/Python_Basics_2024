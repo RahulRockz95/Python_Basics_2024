{
 "cells": [
  {
   "cell_type": "markdown",
   "id": "d3720944",
   "metadata": {},
   "source": [
    "**Functions**\n",
    "- Reuse the Code\n",
    "- Imagine you want to calculate tax of all tax payers\n",
    "_ suppose there are 100 tax payers are there\n",
    "- In order to calculate tax we required 5 lines of code\n",
    "- for 100 tax payers it will required 500 lines\n",
    "- This is not the good approach\n",
    "- because 5 lines we are repeating for 100 members\n",
    "- Here functions will help us how to use only these 5 lines to all 100 tax payers"
   ]
  },
  {
   "cell_type": "code",
   "execution_count": 2,
   "id": "f4f818a7",
   "metadata": {
    "scrolled": true
   },
   "outputs": [
    {
     "name": "stdout",
     "output_type": "stream",
     "text": [
      "enetr the salary:60000\n",
      "enetr the tax per:10\n",
      "The amount of tax_pay is:6000.0\n"
     ]
    }
   ],
   "source": [
    "salary=eval(input(\"enetr the salary:\"))\n",
    "tax_per = eval(input(\"enetr the tax per:\"))\n",
    "tax_amount=salary*tax_per/100\n",
    "print(f\"The amount of tax_pay is:{tax_amount}\")"
   ]
  },
  {
   "cell_type": "code",
   "execution_count": null,
   "id": "ec3be40d",
   "metadata": {},
   "outputs": [],
   "source": [
    "# Syntax\n",
    "\n",
    "# def <function_name>()\n",
    "#     <code strts here>"
   ]
  },
  {
   "cell_type": "code",
   "execution_count": 3,
   "id": "09cfa275",
   "metadata": {},
   "outputs": [
    {
     "name": "stdout",
     "output_type": "stream",
     "text": [
      "30\n"
     ]
    }
   ],
   "source": [
    "n1=10\n",
    "n2=20\n",
    "add=n1+n2\n",
    "print(add)"
   ]
  },
  {
   "cell_type": "code",
   "execution_count": 3,
   "id": "214522c4",
   "metadata": {},
   "outputs": [],
   "source": [
    "def manish():\n",
    "    n1=10\n",
    "    n2=20\n",
    "    add=n1+n2\n",
    "    print(add)"
   ]
  },
  {
   "cell_type": "code",
   "execution_count": 2,
   "id": "eb768137",
   "metadata": {},
   "outputs": [
    {
     "name": "stdout",
     "output_type": "stream",
     "text": [
      "30\n"
     ]
    }
   ],
   "source": [
    "manish()"
   ]
  },
  {
   "cell_type": "markdown",
   "id": "194c1b8c",
   "metadata": {},
   "source": [
    "- first mistake you will forget the brackets while define function\n",
    "- syntax error\n",
    "- second mistake you will forget colon\n",
    "- syntax error\n",
    "- third mistake you will not give the indentation\n",
    "- indentation error\n",
    "- fourth mistake, you will copy the code you will forget to make the alignment\n",
    "- indentation error\n",
    "- fifth mistake: variable and function name must be different\n",
    "- This error you will get in future, when we create\n",
    "- sixth mistake while calling the function you will forget the brackets\n",
    "\n",
    "**Function also called a method**\n",
    "\n",
    "whenevr there is function , brackets must be there"
   ]
  },
  {
   "cell_type": "code",
   "execution_count": 4,
   "id": "84f8cc20",
   "metadata": {},
   "outputs": [],
   "source": [
    "def add1():\n",
    "    n1=10\n",
    "    n2=20\n",
    "    add=n1+n2\n",
    "    print(add)"
   ]
  },
  {
   "cell_type": "code",
   "execution_count": 5,
   "id": "f1ca0927",
   "metadata": {},
   "outputs": [],
   "source": [
    "def add1():\n",
    "    n1=eval(input(\"Enter the number1:\"))\n",
    "    n2=eval(input(\"Enter the number2:\"))\n",
    "    add=n1111+n2\n",
    "    print(add)"
   ]
  },
  {
   "cell_type": "code",
   "execution_count": 6,
   "id": "d4a5c235",
   "metadata": {},
   "outputs": [
    {
     "name": "stdout",
     "output_type": "stream",
     "text": [
      "Enter the number1:20\n",
      "Enter the number2:30\n"
     ]
    },
    {
     "ename": "NameError",
     "evalue": "name 'n1111' is not defined",
     "output_type": "error",
     "traceback": [
      "\u001b[1;31m---------------------------------------------------------------------------\u001b[0m",
      "\u001b[1;31mNameError\u001b[0m                                 Traceback (most recent call last)",
      "Cell \u001b[1;32mIn[6], line 1\u001b[0m\n\u001b[1;32m----> 1\u001b[0m add1()\n",
      "Cell \u001b[1;32mIn[5], line 4\u001b[0m, in \u001b[0;36madd1\u001b[1;34m()\u001b[0m\n\u001b[0;32m      2\u001b[0m n1\u001b[38;5;241m=\u001b[39m\u001b[38;5;28meval\u001b[39m(\u001b[38;5;28minput\u001b[39m(\u001b[38;5;124m\"\u001b[39m\u001b[38;5;124mEnter the number1:\u001b[39m\u001b[38;5;124m\"\u001b[39m))\n\u001b[0;32m      3\u001b[0m n2\u001b[38;5;241m=\u001b[39m\u001b[38;5;28meval\u001b[39m(\u001b[38;5;28minput\u001b[39m(\u001b[38;5;124m\"\u001b[39m\u001b[38;5;124mEnter the number2:\u001b[39m\u001b[38;5;124m\"\u001b[39m))\n\u001b[1;32m----> 4\u001b[0m add\u001b[38;5;241m=\u001b[39mn1111\u001b[38;5;241m+\u001b[39mn2\n\u001b[0;32m      5\u001b[0m \u001b[38;5;28mprint\u001b[39m(add)\n",
      "\u001b[1;31mNameError\u001b[0m: name 'n1111' is not defined"
     ]
    }
   ],
   "source": [
    "add1()"
   ]
  },
  {
   "cell_type": "markdown",
   "id": "2f70607b",
   "metadata": {},
   "source": [
    "- Functions without arguments and \n",
    "- Functions with arguments"
   ]
  },
  {
   "cell_type": "markdown",
   "id": "c45bb873",
   "metadata": {},
   "source": [
    "**Note**\n",
    "- defining function will not give error \n",
    "- errors will display after calling the function only"
   ]
  },
  {
   "cell_type": "markdown",
   "id": "74c2cbf0",
   "metadata": {},
   "source": [
    "## Method:1:\n",
    "# **Functions without argument**\n",
    "\n",
    "- when we define function we will provide brackets\n",
    "\n",
    "- inside these brackets we can provide the values also\n",
    "\n",
    "- these values are called as **arguments** or **parameters** \n",
    "\n",
    "- if we dont provide arguments it is known as function without arguments\n",
    "\n",
    "- **Function without arguments**"
   ]
  },
  {
   "cell_type": "code",
   "execution_count": 9,
   "id": "f2fb7ef9",
   "metadata": {},
   "outputs": [
    {
     "name": "stdout",
     "output_type": "stream",
     "text": [
      "Enetr the number1:12\n",
      "Enetr the number1:13\n",
      "Enetr the number1:14\n",
      "The average of 3 numbers are:13.0\n"
     ]
    }
   ],
   "source": [
    "# Create a function\n",
    "# read three numbers , find the average\n",
    "\n",
    "# Create a function ask the user eneter the bill amount , enter the tip per\n",
    "# calculate total bill pay\n",
    "\n",
    "# Create a function ask the user enter a radius \n",
    "# calculate the area of the circle\n",
    "\n",
    "# Create a function ask the user enter breadth and height \n",
    "# calculate area of the triangle\n",
    "\n",
    "# Create a function ask the user enter a number and \n",
    "# find it if its even or odd\n",
    "\n",
    "# Create a function ask the user enetr number find out if its \n",
    "# positive or negative or zero\n",
    "\n",
    "# Create a function ask the  user enetr 3 numbers \n",
    "# find the greatest\n",
    "\n",
    "def average():\n",
    "    n1=eval(input(\"Enetr the number1:\"))\n",
    "    n2=eval(input(\"Enetr the number1:\"))\n",
    "    n3=eval(input(\"Enetr the number1:\"))\n",
    "    avg=(n1+n2+n3)/3\n",
    "    print(f\"The average of 3 numbers are:{avg}\")\n",
    "average()"
   ]
  },
  {
   "cell_type": "code",
   "execution_count": 13,
   "id": "013f340e",
   "metadata": {},
   "outputs": [
    {
     "name": "stdout",
     "output_type": "stream",
     "text": [
      "Enetr the bill amount:3000\n",
      "Enetr the Tip Percentage:4\n",
      "The Total bill payment is: 3120.0\n"
     ]
    }
   ],
   "source": [
    "def tax_pay():\n",
    "    bill = eval(input(\"Enetr the bill amount:\"))\n",
    "    Tip_per = eval(input(\"Enetr the Tip Percentage:\"))\n",
    "    Tip_amt=(bill*Tip_per)/100\n",
    "    Total = bill+Tip_amt\n",
    "    print(f\"The Total bill payment is: {Total}\")\n",
    "tax_pay()"
   ]
  },
  {
   "cell_type": "code",
   "execution_count": null,
   "id": "4e340220",
   "metadata": {},
   "outputs": [],
   "source": [
    "# you can call the function in same cell\n",
    "# jupiter notebook has cells\n",
    "# Vs Code doesnot have cells\n",
    "# packages must be at top"
   ]
  },
  {
   "cell_type": "code",
   "execution_count": 17,
   "id": "92a8600f",
   "metadata": {},
   "outputs": [
    {
     "name": "stdout",
     "output_type": "stream",
     "text": [
      "Enter the radius of circle:56\n",
      "area of the circle is : 9852.03\n"
     ]
    }
   ],
   "source": [
    "import math\n",
    "def circle():\n",
    "    pi=math.pi\n",
    "    radius= eval(input(\"Enter the radius of circle:\"))\n",
    "    area= round(pi*radius*radius,2)\n",
    "    print(f\"area of the circle is : {area}\")\n",
    "\n",
    "circle()"
   ]
  },
  {
   "cell_type": "code",
   "execution_count": 15,
   "id": "ca58ae21",
   "metadata": {},
   "outputs": [
    {
     "name": "stdout",
     "output_type": "stream",
     "text": [
      "Enetr the breadth of triangle:23\n",
      "Enetr the height of triangle:45\n",
      "The area of triangle is : 517.5\n"
     ]
    }
   ],
   "source": [
    "def triangle():\n",
    "    breadth = eval(input(\"Enetr the breadth of triangle:\"))\n",
    "    height = eval(input(\"Enetr the height of triangle:\"))\n",
    "    area = 0.5*breadth*height\n",
    "    print(f\"The area of triangle is : {area}\")\n",
    "triangle()"
   ]
  },
  {
   "cell_type": "code",
   "execution_count": null,
   "id": "5f3fbba1",
   "metadata": {},
   "outputs": [],
   "source": [
    "# first write the original code\n",
    "# then create the function and \n",
    "# then copy the original code inside fucntion"
   ]
  },
  {
   "cell_type": "code",
   "execution_count": 18,
   "id": "3542099b",
   "metadata": {},
   "outputs": [
    {
     "name": "stdout",
     "output_type": "stream",
     "text": [
      "Enter a number: 34\n",
      "The 34 is an even number\n"
     ]
    }
   ],
   "source": [
    "def even_odd():\n",
    "    num = eval(input(\"Enter a number: \"))\n",
    "    if(num%2==0):\n",
    "        print(f\"The {num} is an even number\")\n",
    "    else:\n",
    "        print(f\"The {num} is odd number\")\n",
    "even_odd()"
   ]
  },
  {
   "cell_type": "code",
   "execution_count": 21,
   "id": "051eee11",
   "metadata": {},
   "outputs": [
    {
     "name": "stdout",
     "output_type": "stream",
     "text": [
      "Enter a number: -67\n",
      "The -67 is a negative number\n"
     ]
    }
   ],
   "source": [
    "def positive_negative():\n",
    "    num = eval(input(\"Enter a number: \"))\n",
    "    if(num>0):\n",
    "        print(f\"The {num} is a positive number\")\n",
    "    elif(num==0):\n",
    "        print(f\"The {num} is zero\")\n",
    "    else:\n",
    "        print(f\"The {num} is a negative number\")\n",
    "positive_negative()"
   ]
  },
  {
   "cell_type": "code",
   "execution_count": 22,
   "id": "2bde3145",
   "metadata": {},
   "outputs": [
    {
     "name": "stdout",
     "output_type": "stream",
     "text": [
      "Enter a number1: 13\n",
      "Enter the number2: 24\n",
      "Enter the number3: 67\n",
      "The 67 is greatest\n"
     ]
    }
   ],
   "source": [
    "def greatest():\n",
    "    num1 = eval(input(\"Enter a number1: \"))\n",
    "    num2= eval(input(\"Enter the number2: \"))\n",
    "    num3 = eval(input(\"Enter the number3: \"))\n",
    "    if num1>num2 and num1>num3:\n",
    "        print(f\"The {num1} is greatest\")\n",
    "    elif num2>num3:\n",
    "        print(f\"The {num2} is greatest\")\n",
    "    else:\n",
    "        print(f\"The {num3} is greatest\")\n",
    "greatest()"
   ]
  },
  {
   "cell_type": "code",
   "execution_count": null,
   "id": "d24e5149",
   "metadata": {},
   "outputs": [],
   "source": [
    "# placemet sessions\n",
    "# 75 members\n",
    "# Lab is important \n",
    "# assignments \n",
    "# Exams \n",
    "# labs"
   ]
  },
  {
   "cell_type": "code",
   "execution_count": null,
   "id": "1adaef21",
   "metadata": {},
   "outputs": [],
   "source": [
    "def average():\n",
    "def billing():\n",
    "def circle():\n",
    "def triangle():\n",
    "def even_odd():\n",
    "def positive_negative():\n",
    "def greatest():"
   ]
  },
  {
   "cell_type": "markdown",
   "id": "6aff49f0",
   "metadata": {},
   "source": [
    "## METHOD - 2\n",
    "\n",
    "\n",
    "### Functions with arguments\n",
    "\n",
    "- How many variables are there in given function\n",
    "\n",
    "    - input variables : user will provide\n",
    "    \n",
    "    - suppose n1 and n2 are 2 input variables \n",
    "    \n",
    "    - output variable: we are creating a new variable using input variable\n",
    "\n",
    "** Concentrate on input variables**"
   ]
  },
  {
   "cell_type": "code",
   "execution_count": 28,
   "id": "e37378f0",
   "metadata": {},
   "outputs": [
    {
     "name": "stdout",
     "output_type": "stream",
     "text": [
      "40\n"
     ]
    }
   ],
   "source": [
    "def add2(n1,n2):\n",
    "    add=n1+n2\n",
    "    print(add)\n",
    "add2(10,30)"
   ]
  },
  {
   "cell_type": "code",
   "execution_count": 30,
   "id": "511c934f",
   "metadata": {},
   "outputs": [
    {
     "name": "stdout",
     "output_type": "stream",
     "text": [
      "The average of 3 numbers are:20.0\n"
     ]
    }
   ],
   "source": [
    "def average(n1,n2,n3):\n",
    "    avg=(n1+n2+n3)/3\n",
    "    print(f\"The average of 3 numbers are:{avg}\")\n",
    "average(10,20,30)"
   ]
  },
  {
   "cell_type": "code",
   "execution_count": null,
   "id": "632b86f7",
   "metadata": {},
   "outputs": [],
   "source": [
    "# Perform the with arguments concept with all 6 problems"
   ]
  },
  {
   "cell_type": "code",
   "execution_count": null,
   "id": "bf6e0632",
   "metadata": {},
   "outputs": [],
   "source": [
    "## def average(num1,num2,num3):\n",
    "    print(\"num1:\",num1)\n",
    "    print(\"num2:\",num2)\n",
    "    ave = round((num1+num2+num3)/3,2)\n",
    "    print(f'Average of {num1} and {num2} is {ave}')\n",
    "average(10,20,30)"
   ]
  },
  {
   "cell_type": "code",
   "execution_count": 11,
   "id": "cbccf7b8",
   "metadata": {},
   "outputs": [
    {
     "name": "stdout",
     "output_type": "stream",
     "text": [
      "Enter the number:10\n",
      "num1: 10\n",
      "Enter the num2:20\n",
      "enetr the number330\n",
      "Average of 10 and 30 is 23.33\n"
     ]
    }
   ],
   "source": [
    "def average(num1):\n",
    "    print(\"num1:\",num1)\n",
    "    num2=eval(input(\"Enter the num2:\"))\n",
    "    num3=  num2=eval(input(\"enetr the number3\"))\n",
    "    ave = round((num1+num2+num3)/3,2)\n",
    "    print(f'Average of {num1} and {num2} is {ave}')\n",
    "average(eval(input(\"Enter the number:\")))"
   ]
  },
  {
   "cell_type": "code",
   "execution_count": 13,
   "id": "d63ce159",
   "metadata": {},
   "outputs": [
    {
     "name": "stdout",
     "output_type": "stream",
     "text": [
      "num1: 99\n",
      "Enter the num2:23\n",
      "enetr the number345\n",
      "Average of 99 and 45 is 63.0\n"
     ]
    }
   ],
   "source": [
    "import random\n",
    "def average(num1):\n",
    "    print(\"num1:\",num1)\n",
    "    num2=eval(input(\"Enter the num2:\"))\n",
    "    num3=  num2=eval(input(\"enetr the number3\"))\n",
    "    ave = round((num1+num2+num3)/3,2)\n",
    "    print(f'Average of {num1} and {num2} is {ave}')\n",
    "average(random.randint(1,100))"
   ]
  },
  {
   "cell_type": "markdown",
   "id": "27c2c48b",
   "metadata": {},
   "source": [
    "- average(10,20,30) # Hard Coded\n",
    "- average(eval(input(\"Enter the number:\"))) # Keyboard \n",
    "- average(random.randint(1,100)) # Random"
   ]
  },
  {
   "cell_type": "code",
   "execution_count": 14,
   "id": "f7b9e09a",
   "metadata": {},
   "outputs": [
    {
     "name": "stdout",
     "output_type": "stream",
     "text": [
      "Enetr the bill amount:1000\n",
      "Enetr the Tip Percentage:20\n",
      "1200.0\n"
     ]
    }
   ],
   "source": [
    "# bill and Tip Percentage\n",
    "\n",
    "def billing(bill,Tip_per):\n",
    "    bill = eval(input(\"Enetr the bill amount:\"))\n",
    "    Tip_per = eval(input(\"Enetr the Tip Percentage:\"))\n",
    "    Tip_amt=(bill*Tip_per)/100\n",
    "    Total = bill+Tip_amt\n",
    "    print(Total)\n",
    "    \n",
    "billing(10,20)"
   ]
  },
  {
   "cell_type": "code",
   "execution_count": 32,
   "id": "538abb6c",
   "metadata": {},
   "outputs": [
    {
     "name": "stdout",
     "output_type": "stream",
     "text": [
      "Enter the bill:3000\n",
      "Enter the Tip_per3\n",
      "3090.0\n"
     ]
    }
   ],
   "source": [
    "def bill(bill,Tip_per):\n",
    "    Tip_amt=(bill*Tip_per)/100\n",
    "    Total = bill+Tip_amt\n",
    "    print(Total)\n",
    "    \n",
    "bill(eval(input(\"Enter the bill:\")),\n",
    "    eval(input(\"Enter the Tip_per\")))"
   ]
  },
  {
   "cell_type": "code",
   "execution_count": 19,
   "id": "928a8966",
   "metadata": {},
   "outputs": [
    {
     "name": "stdout",
     "output_type": "stream",
     "text": [
      "80.34\n"
     ]
    }
   ],
   "source": [
    "def billing(bill,Tip_per):\n",
    "    Tip_amt=(bill*Tip_per)/100\n",
    "    Total = bill+Tip_amt\n",
    "    print(Total)\n",
    "    \n",
    "billing(random.randint(1,100),\n",
    "        random.randint(1,10))"
   ]
  },
  {
   "cell_type": "markdown",
   "id": "16fb7404",
   "metadata": {},
   "source": [
    "- Default Arguments\n"
   ]
  },
  {
   "cell_type": "code",
   "execution_count": 31,
   "id": "4fba6fed",
   "metadata": {},
   "outputs": [
    {
     "name": "stdout",
     "output_type": "stream",
     "text": [
      "The Bill is : 10000\n",
      "The Tip percentage: 20\n",
      "12000.0\n"
     ]
    }
   ],
   "source": [
    "# - The Argument Values are Fixed \n",
    "\n",
    "def billing(bill,Tip_per=20):\n",
    "    print(\"The Bill is :\", bill)\n",
    "    print(\"The Tip percentage:\",Tip_per)\n",
    "    Tip_amt=(bill*Tip_per)/100\n",
    "    Total = bill+Tip_amt\n",
    "    print(Total)\n",
    "    \n",
    "billing(10000)"
   ]
  },
  {
   "cell_type": "markdown",
   "id": "52b7e66f",
   "metadata": {},
   "source": [
    "**Case-1: Make all the arguments as default parametrs**\n",
    "\n",
    "- Make All arguments as default , so no need to pass the value while calling the function"
   ]
  },
  {
   "cell_type": "code",
   "execution_count": 33,
   "id": "f4b50d3a",
   "metadata": {},
   "outputs": [
    {
     "name": "stdout",
     "output_type": "stream",
     "text": [
      "The Bill is : 1000\n",
      "The Tip percentage: 20\n",
      "1200.0\n"
     ]
    }
   ],
   "source": [
    "def billing(bill=1000,Tip_per=20):\n",
    "    print(\"The Bill is :\", bill)\n",
    "    print(\"The Tip percentage:\",Tip_per)\n",
    "    Tip_amt=(bill*Tip_per)/100\n",
    "    Total = bill+Tip_amt\n",
    "    print(Total)\n",
    "    \n",
    "billing()"
   ]
  },
  {
   "cell_type": "markdown",
   "id": "4e76a2c3",
   "metadata": {},
   "source": [
    "**Case-2: All the default parameters should assign after non-default arguments**"
   ]
  },
  {
   "cell_type": "markdown",
   "id": "efcb5b90",
   "metadata": {},
   "source": [
    "- Here non default argument (Tip_per) assigned after default argument(bill)\n",
    "- So when we call the function, function will assign the value for bill only"
   ]
  },
  {
   "cell_type": "code",
   "execution_count": 36,
   "id": "843c9f1c",
   "metadata": {},
   "outputs": [
    {
     "name": "stdout",
     "output_type": "stream",
     "text": [
      "The Bill is : 1000\n",
      "The Tip percentage: 10\n",
      "1100.0\n"
     ]
    }
   ],
   "source": [
    "def billing(bill,Tip_per=10):\n",
    "    print(\"The Bill is :\", bill)\n",
    "    print(\"The Tip percentage:\",Tip_per)\n",
    "    Tip_amt=(bill*Tip_per)/100\n",
    "    Total = bill+Tip_amt\n",
    "    print(Total)\n",
    "    \n",
    "billing(1000)"
   ]
  },
  {
   "cell_type": "markdown",
   "id": "a3ccd410",
   "metadata": {},
   "source": [
    "**Case-3: Default Arguments values will be overrided**"
   ]
  },
  {
   "cell_type": "code",
   "execution_count": 39,
   "id": "c5183053",
   "metadata": {},
   "outputs": [
    {
     "name": "stdout",
     "output_type": "stream",
     "text": [
      "The Bill is : 1000\n",
      "The Tip percentage: 40\n",
      "1400.0\n"
     ]
    }
   ],
   "source": [
    "def billing(bill=2000,Tip_per=10):\n",
    "    print(\"The Bill is :\", bill)\n",
    "    print(\"The Tip percentage:\",Tip_per)\n",
    "    Tip_amt=(bill*Tip_per)/100\n",
    "    Total = bill+Tip_amt\n",
    "    print(Total)\n",
    "    \n",
    "billing(1000,40)"
   ]
  },
  {
   "cell_type": "code",
   "execution_count": 41,
   "id": "d016d6f6",
   "metadata": {},
   "outputs": [
    {
     "name": "stdout",
     "output_type": "stream",
     "text": [
      "The Bill is : 6000\n",
      "The Tip percentage: 40\n",
      "8400.0\n"
     ]
    }
   ],
   "source": [
    "# defining the function - 2000\n",
    "# calling the function -  1000\n",
    "# running the function - 6000\n",
    "# Executing the middle part is final one\n",
    "\n",
    "\n",
    "def billing(bill=2000,Tip_per=10):\n",
    "    bill=6000\n",
    "    print(\"The Bill is :\", bill)\n",
    "    print(\"The Tip percentage:\",Tip_per)\n",
    "    Tip_amt=(bill*Tip_per)/100\n",
    "    Total = bill+Tip_amt\n",
    "    print(Total)\n",
    "    \n",
    "billing(1000,40)"
   ]
  },
  {
   "cell_type": "code",
   "execution_count": 43,
   "id": "407b3c14",
   "metadata": {},
   "outputs": [
    {
     "name": "stdout",
     "output_type": "stream",
     "text": [
      "The Bill is : 6000\n",
      "The Tip percentage: 40\n",
      "8400.0\n"
     ]
    }
   ],
   "source": [
    "\n",
    "def billing(bill=2000,Tip_per=10):\n",
    "    bill=6000\n",
    "    print(\"The Bill is :\", bill)\n",
    "    print(\"The Tip percentage:\",Tip_per)\n",
    "    Tip_amt=(bill*Tip_per)/100\n",
    "    Total = bill+Tip_amt\n",
    "    print(Total)\n",
    "bill=7000 \n",
    "billing(1000,40)"
   ]
  },
  {
   "cell_type": "code",
   "execution_count": null,
   "id": "f8a0bc9a",
   "metadata": {},
   "outputs": [],
   "source": [
    "# First bill=2000\n",
    "# second= 7000\n",
    "# third = 1000\n",
    "# fourth = 6000"
   ]
  },
  {
   "cell_type": "code",
   "execution_count": 45,
   "id": "d1513bf6",
   "metadata": {},
   "outputs": [
    {
     "name": "stdout",
     "output_type": "stream",
     "text": [
      "The Bill is : 23000\n",
      "The Tip percentage: 40\n",
      "32200.0\n"
     ]
    }
   ],
   "source": [
    "bill=8000\n",
    "def billing(bill=2000,Tip_per=10):\n",
    "    print(\"The Bill is :\", bill)\n",
    "    print(\"The Tip percentage:\",Tip_per)\n",
    "    Tip_amt=(bill*Tip_per)/100\n",
    "    Total = bill+Tip_amt\n",
    "    print(Total)\n",
    "bill=7000 \n",
    "billing(23000,40)"
   ]
  },
  {
   "cell_type": "markdown",
   "id": "ad62a644",
   "metadata": {},
   "source": [
    "**Global variable and Local Variable Concept**\n",
    "\n",
    "- Local Variable means the variable defined inside the function\n",
    "- Local variable cannot access outside the function\n",
    "- Global variable means the variables defined outside the function\n",
    "- Global variables can access anywhere anytime"
   ]
  },
  {
   "cell_type": "code",
   "execution_count": 47,
   "id": "97c4a5fc",
   "metadata": {},
   "outputs": [
    {
     "name": "stdout",
     "output_type": "stream",
     "text": [
      "30\n"
     ]
    }
   ],
   "source": [
    "def addition():\n",
    "    NUMBER1=10\n",
    "    NUMBER2=20\n",
    "    print(NUMBER1+NUMBER2)\n",
    "addition()"
   ]
  },
  {
   "cell_type": "code",
   "execution_count": 48,
   "id": "b99fae99",
   "metadata": {},
   "outputs": [
    {
     "ename": "NameError",
     "evalue": "name 'NUMBER1' is not defined",
     "output_type": "error",
     "traceback": [
      "\u001b[1;31m---------------------------------------------------------------------------\u001b[0m",
      "\u001b[1;31mNameError\u001b[0m                                 Traceback (most recent call last)",
      "Cell \u001b[1;32mIn[48], line 1\u001b[0m\n\u001b[1;32m----> 1\u001b[0m NUMBER1\n",
      "\u001b[1;31mNameError\u001b[0m: name 'NUMBER1' is not defined"
     ]
    }
   ],
   "source": [
    "NUMBER1"
   ]
  },
  {
   "cell_type": "code",
   "execution_count": 51,
   "id": "927215c9",
   "metadata": {},
   "outputs": [
    {
     "name": "stdout",
     "output_type": "stream",
     "text": [
      "30\n",
      "200\n"
     ]
    }
   ],
   "source": [
    "NUMBER1=10\n",
    "NUMBER2=20\n",
    "def addition():\n",
    "    print(NUMBER1+NUMBER2)\n",
    "addition()\n",
    "def mul():\n",
    "    print(NUMBER1*NUMBER2)\n",
    "mul()"
   ]
  },
  {
   "cell_type": "code",
   "execution_count": null,
   "id": "67574d45",
   "metadata": {},
   "outputs": [],
   "source": [
    "NUMBER1=100\n",
    "NUMBER2=200\n",
    "def addition():\n",
    "    \n",
    "    print(NUMBER1+NUMBER2)\n",
    "addition()"
   ]
  },
  {
   "cell_type": "markdown",
   "id": "6ce325f9",
   "metadata": {},
   "source": [
    "**SPL CASE- We want to use the local variable outside function also**"
   ]
  },
  {
   "cell_type": "code",
   "execution_count": 54,
   "id": "abc61279",
   "metadata": {},
   "outputs": [
    {
     "name": "stdout",
     "output_type": "stream",
     "text": [
      "30\n"
     ]
    }
   ],
   "source": [
    "def addition():\n",
    "    global number_one\n",
    "    number_one=10\n",
    "    number_two=20\n",
    "    print(number_one+number_two)\n",
    "addition()"
   ]
  },
  {
   "cell_type": "code",
   "execution_count": 55,
   "id": "dc142cf9",
   "metadata": {},
   "outputs": [
    {
     "data": {
      "text/plain": [
       "10"
      ]
     },
     "execution_count": 55,
     "metadata": {},
     "output_type": "execute_result"
    }
   ],
   "source": [
    "number_one"
   ]
  },
  {
   "cell_type": "markdown",
   "id": "d05c052a",
   "metadata": {},
   "source": [
    "- after calling , function will run"
   ]
  },
  {
   "cell_type": "code",
   "execution_count": 57,
   "id": "a29ba947",
   "metadata": {},
   "outputs": [
    {
     "ename": "NameError",
     "evalue": "name 'number_one1' is not defined",
     "output_type": "error",
     "traceback": [
      "\u001b[1;31m---------------------------------------------------------------------------\u001b[0m",
      "\u001b[1;31mNameError\u001b[0m                                 Traceback (most recent call last)",
      "Cell \u001b[1;32mIn[57], line 6\u001b[0m\n\u001b[0;32m      4\u001b[0m     number_two\u001b[38;5;241m=\u001b[39m\u001b[38;5;241m20\u001b[39m\n\u001b[0;32m      5\u001b[0m     \u001b[38;5;28mprint\u001b[39m(number_one1\u001b[38;5;241m+\u001b[39mnumber_two)\n\u001b[1;32m----> 6\u001b[0m \u001b[38;5;28mprint\u001b[39m(number_one1)\n\u001b[0;32m      7\u001b[0m addition()\n",
      "\u001b[1;31mNameError\u001b[0m: name 'number_one1' is not defined"
     ]
    }
   ],
   "source": [
    "def addition():\n",
    "    global number_one1\n",
    "    number_one1=10\n",
    "    number_two=20\n",
    "    print(number_one1+number_two)\n",
    "print(number_one1)\n",
    "addition()"
   ]
  },
  {
   "cell_type": "markdown",
   "id": "4e82524d",
   "metadata": {},
   "source": [
    "**Average Program**\n",
    "- Functions with out arguments\n",
    "- Functions with arguments \n",
    "- Functions with default arguments \n",
    "- Local Variable and global variable\n",
    "- Return statements\n",
    "- Functions in functions\n",
    "\n"
   ]
  },
  {
   "cell_type": "code",
   "execution_count": 3,
   "id": "4fe2ee3e",
   "metadata": {},
   "outputs": [
    {
     "name": "stdout",
     "output_type": "stream",
     "text": [
      "Enter the num2:12\n",
      "Enter the num2:12\n",
      "enetr the number312\n",
      "Average of 12 and 12 is 12.0\n"
     ]
    }
   ],
   "source": [
    "# - Functions without arguments\n",
    "\n",
    "def average():\n",
    "    num1=eval(input(\"Enter the num2:\"))\n",
    "    num2=eval(input(\"Enter the num2:\"))\n",
    "    num3=eval(input(\"enetr the number3\"))\n",
    "    ave = round((num1+num2+num3)/3,2)\n",
    "    print(f'Average of {num1} and {num2} is {ave}')\n",
    "average()\n",
    "\n",
    "# Input Variable: num1,num2,num3\n",
    "# Output: ave"
   ]
  },
  {
   "cell_type": "code",
   "execution_count": 4,
   "id": "804cb1a3",
   "metadata": {},
   "outputs": [
    {
     "name": "stdout",
     "output_type": "stream",
     "text": [
      "Average of 10 and 20 is 20.0\n"
     ]
    }
   ],
   "source": [
    "# - Functions with arguments\n",
    "\n",
    "def average(num1,num2,num3):\n",
    "    ave = round((num1+num2+num3)/3,2)\n",
    "    print(f'Average of {num1} and {num2} is {ave}')\n",
    "average(10,20,30)"
   ]
  },
  {
   "cell_type": "code",
   "execution_count": 5,
   "id": "3232f3fd",
   "metadata": {},
   "outputs": [
    {
     "name": "stdout",
     "output_type": "stream",
     "text": [
      "enetr the number330\n",
      "Average of 10 and 20 is 20.0\n"
     ]
    }
   ],
   "source": [
    "# - Functions with default arguments\n",
    "def average(num1,num2=30):\n",
    "    num3=eval(input(\"enetr the number3\"))\n",
    "    ave = round((num1+num2+num3)/3,2)\n",
    "    print(f'Average of {num1} and {num2} is {ave}')\n",
    "average(10,20)"
   ]
  },
  {
   "cell_type": "code",
   "execution_count": 1,
   "id": "5a74a8eb",
   "metadata": {},
   "outputs": [
    {
     "name": "stdout",
     "output_type": "stream",
     "text": [
      "Enter the number1:40\n",
      "Enter the number2:50\n",
      "Enter the number3:60\n",
      "The average of 40,50 and 60 is 50.0\n"
     ]
    }
   ],
   "source": [
    "# - Local Variable\n",
    "def avg():\n",
    "    n1=eval(input(\"Enter the number1:\"))\n",
    "    n2=eval(input(\"Enter the number2:\"))\n",
    "    n3=eval(input(\"Enter the number3:\"))\n",
    "    average= (n1+n2+n3)/3\n",
    "    average1 = round(average,2)\n",
    "    print(f\"The average of {n1},{n2} and {n3} is {average1}\")\n",
    "    \n",
    "avg()\n",
    "\n",
    "\n",
    "# Input Variable: n1,n2,n3\n",
    "# Output: average , average1"
   ]
  },
  {
   "cell_type": "code",
   "execution_count": 2,
   "id": "f44349f8",
   "metadata": {},
   "outputs": [
    {
     "ename": "NameError",
     "evalue": "name 'n1' is not defined",
     "output_type": "error",
     "traceback": [
      "\u001b[1;31m---------------------------------------------------------------------------\u001b[0m",
      "\u001b[1;31mNameError\u001b[0m                                 Traceback (most recent call last)",
      "Cell \u001b[1;32mIn[2], line 1\u001b[0m\n\u001b[1;32m----> 1\u001b[0m n1\n",
      "\u001b[1;31mNameError\u001b[0m: name 'n1' is not defined"
     ]
    }
   ],
   "source": []
  },
  {
   "cell_type": "code",
   "execution_count": 5,
   "id": "12da5c6a",
   "metadata": {},
   "outputs": [
    {
     "name": "stdout",
     "output_type": "stream",
     "text": [
      "Enter the number1:10\n",
      "Enter the number2:20\n",
      "Enter the number3:30\n",
      "The average of 10,20 and 30 is 20.0\n"
     ]
    }
   ],
   "source": [
    "# Global variable\n",
    "\n",
    "n1=eval(input(\"Enter the number1:\"))\n",
    "n2=eval(input(\"Enter the number2:\"))\n",
    "n3=eval(input(\"Enter the number3:\"))\n",
    "def avg():\n",
    "    average= (n1+n2+n3)/3\n",
    "    average1 = round(average,2)\n",
    "    print(f\"The average of {n1},{n2} and {n3} is {average1}\")\n",
    "    \n",
    "avg()"
   ]
  },
  {
   "cell_type": "code",
   "execution_count": 3,
   "id": "6b62c24b",
   "metadata": {},
   "outputs": [
    {
     "data": {
      "text/plain": [
       "10"
      ]
     },
     "execution_count": 3,
     "metadata": {},
     "output_type": "execute_result"
    }
   ],
   "source": [
    "n1"
   ]
  },
  {
   "cell_type": "code",
   "execution_count": 10,
   "id": "f86ce3a5",
   "metadata": {},
   "outputs": [
    {
     "name": "stdout",
     "output_type": "stream",
     "text": [
      "The average of 10,20 and 50 is 26.67\n"
     ]
    }
   ],
   "source": [
    "# Functions with default arguments\n",
    "\n",
    "def avg(n1,n2,n3=50):\n",
    "    average= (n1+n2+n3)/3\n",
    "    average1 = round(average,2)\n",
    "    print(f\"The average of {n1},{n2} and {n3} is {average1}\")\n",
    "    \n",
    "avg(10,20)"
   ]
  },
  {
   "cell_type": "code",
   "execution_count": 7,
   "id": "bf9caaf8",
   "metadata": {},
   "outputs": [
    {
     "name": "stdout",
     "output_type": "stream",
     "text": [
      "30\n"
     ]
    }
   ],
   "source": [
    "def add():\n",
    "    print(a+b)\n",
    "a=10\n",
    "b=20\n",
    "add()"
   ]
  },
  {
   "cell_type": "markdown",
   "id": "5152a805",
   "metadata": {},
   "source": [
    "- By the time of calling the variables are ready or not "
   ]
  },
  {
   "cell_type": "code",
   "execution_count": null,
   "id": "4b235928",
   "metadata": {},
   "outputs": [],
   "source": [
    "def add():            # FAILS# \n",
    "    print(a+b)\n",
    "add()\n",
    "a=10\n",
    "b=20\n",
    "##################Works#####################################\n",
    "def add():\n",
    "    print(a+b)\n",
    "a=10\n",
    "b=20\n",
    "add()\n",
    "\n",
    "\n",
    "###################Works#################################\n",
    "\n",
    "a=10\n",
    "b=20\n",
    "def add():\n",
    "    print(a+b)\n",
    "add()\n",
    "####################fails###############################\n",
    "def add():\n",
    "    print(a+b)\n",
    "    a=10\n",
    "    b=20\n",
    "add()\n",
    "######################Works###############################\n",
    "def add():\n",
    "    a=10\n",
    "    b=20\n",
    "    print(a+b)\n",
    "add()"
   ]
  },
  {
   "cell_type": "code",
   "execution_count": 12,
   "id": "2a4f1dda",
   "metadata": {},
   "outputs": [
    {
     "name": "stdout",
     "output_type": "stream",
     "text": [
      "30\n"
     ]
    }
   ],
   "source": [
    "def add():\n",
    "    print(a1+b1)\n",
    "a1=10\n",
    "b1=20\n",
    "add()"
   ]
  },
  {
   "cell_type": "code",
   "execution_count": 16,
   "id": "e0ab72b4",
   "metadata": {},
   "outputs": [
    {
     "name": "stdout",
     "output_type": "stream",
     "text": [
      "20\n"
     ]
    }
   ],
   "source": [
    "s=10\n",
    "def add1():\n",
    "    global s\n",
    "    s=20\n",
    "    print(s)\n",
    "add1()"
   ]
  },
  {
   "cell_type": "code",
   "execution_count": 17,
   "id": "d2c866e8",
   "metadata": {},
   "outputs": [
    {
     "data": {
      "text/plain": [
       "20"
      ]
     },
     "execution_count": 17,
     "metadata": {},
     "output_type": "execute_result"
    }
   ],
   "source": [
    "s # because s is a global variable and its given global inside local "
   ]
  },
  {
   "cell_type": "code",
   "execution_count": 19,
   "id": "280fde7f",
   "metadata": {},
   "outputs": [],
   "source": [
    "sum1=10\n",
    "def add1():\n",
    "    global sum1\n",
    "    sum1=20\n",
    "add1()"
   ]
  },
  {
   "cell_type": "code",
   "execution_count": 20,
   "id": "16736109",
   "metadata": {},
   "outputs": [
    {
     "data": {
      "text/plain": [
       "20"
      ]
     },
     "execution_count": 20,
     "metadata": {},
     "output_type": "execute_result"
    }
   ],
   "source": [
    "# local variables cant be used outside the function\n",
    "sum1"
   ]
  },
  {
   "cell_type": "code",
   "execution_count": 21,
   "id": "1b2c1901",
   "metadata": {},
   "outputs": [
    {
     "name": "stdout",
     "output_type": "stream",
     "text": [
      "10\n"
     ]
    }
   ],
   "source": [
    "def show():\n",
    "    global a\n",
    "    a=20\n",
    "    a=10\n",
    "    print(a)\n",
    "    \n",
    "a=10\n",
    "show()"
   ]
  },
  {
   "cell_type": "code",
   "execution_count": 22,
   "id": "bd3f8ead",
   "metadata": {},
   "outputs": [
    {
     "name": "stdout",
     "output_type": "stream",
     "text": [
      "17\n"
     ]
    }
   ],
   "source": [
    "a=10\n",
    "b=20\n",
    "def add():\n",
    "    a=16\n",
    "a=17\n",
    "add()\n",
    "print(a)"
   ]
  },
  {
   "cell_type": "markdown",
   "id": "37974b86",
   "metadata": {},
   "source": [
    "**Use the local variables outside the function  without using global**\n",
    "\n",
    "- We already know that local variables cant use outside the function directly \n",
    "\n",
    "- if we want to use local variable outside the function we need to use global keyword\n",
    " \n",
    "- We can also use the local variables without using global keyboard\n",
    "\n",
    "- That concept is called return"
   ]
  },
  {
   "cell_type": "code",
   "execution_count": 27,
   "id": "b769a3da",
   "metadata": {},
   "outputs": [
    {
     "name": "stdout",
     "output_type": "stream",
     "text": [
      "30\n"
     ]
    }
   ],
   "source": [
    "def add1():\n",
    "    num1=10\n",
    "    num2=20\n",
    "    sum=num1+num2\n",
    "    return(sum)\n",
    "\n",
    "sum=add1()\n",
    "print(sum)"
   ]
  },
  {
   "cell_type": "code",
   "execution_count": 25,
   "id": "0c4b6afb",
   "metadata": {},
   "outputs": [
    {
     "data": {
      "text/plain": [
       "10"
      ]
     },
     "execution_count": 25,
     "metadata": {},
     "output_type": "execute_result"
    }
   ],
   "source": [
    "var1"
   ]
  },
  {
   "cell_type": "code",
   "execution_count": 28,
   "id": "ff3f1b40",
   "metadata": {},
   "outputs": [
    {
     "name": "stdout",
     "output_type": "stream",
     "text": [
      "30\n"
     ]
    },
    {
     "ename": "NameError",
     "evalue": "name 's11' is not defined",
     "output_type": "error",
     "traceback": [
      "\u001b[1;31m---------------------------------------------------------------------------\u001b[0m",
      "\u001b[1;31mNameError\u001b[0m                                 Traceback (most recent call last)",
      "Cell \u001b[1;32mIn[28], line 8\u001b[0m\n\u001b[0;32m      5\u001b[0m     \u001b[38;5;28mprint\u001b[39m(s11)\n\u001b[0;32m      7\u001b[0m add1()\n\u001b[1;32m----> 8\u001b[0m \u001b[38;5;28mprint\u001b[39m(s11)\n",
      "\u001b[1;31mNameError\u001b[0m: name 's11' is not defined"
     ]
    }
   ],
   "source": [
    "def add1():\n",
    "    num1=10\n",
    "    num2=20\n",
    "    s11=num1+num2\n",
    "    print(s11)\n",
    "\n",
    "add1()\n",
    "print(s11)"
   ]
  },
  {
   "cell_type": "code",
   "execution_count": 33,
   "id": "f48e708c",
   "metadata": {},
   "outputs": [
    {
     "name": "stdout",
     "output_type": "stream",
     "text": [
      "20\n",
      "10\n",
      "30\n"
     ]
    }
   ],
   "source": [
    "def add1():\n",
    "    num1=10\n",
    "    num2=20\n",
    "    s11=num1+num2\n",
    "    return(s11,num1,num2)\n",
    "\n",
    "num2,num1,s11=add1()\n",
    "print(s11)\n",
    "print(num1)\n",
    "print(num2)"
   ]
  },
  {
   "cell_type": "code",
   "execution_count": 34,
   "id": "208f9e95",
   "metadata": {},
   "outputs": [
    {
     "name": "stdout",
     "output_type": "stream",
     "text": [
      "Enter the number1:10\n",
      "Enter the number2:20\n",
      "Enter the number3:30\n",
      "The average of 10,20 and 30 is 20.0\n"
     ]
    }
   ],
   "source": [
    "def avg():\n",
    "    n1=eval(input(\"Enter the number1:\"))\n",
    "    n2=eval(input(\"Enter the number2:\"))\n",
    "    n3=eval(input(\"Enter the number3:\"))\n",
    "    average= (n1+n2+n3)/3\n",
    "    average1 = round(average,2)\n",
    "    print(f\"The average of {n1},{n2} and {n3} is {average1}\")\n",
    "    return(average1)\n",
    "    \n",
    "average= avg()"
   ]
  },
  {
   "cell_type": "code",
   "execution_count": 35,
   "id": "dcb1f8b7",
   "metadata": {},
   "outputs": [
    {
     "name": "stdout",
     "output_type": "stream",
     "text": [
      "20.0\n"
     ]
    }
   ],
   "source": [
    "print(average)"
   ]
  },
  {
   "cell_type": "code",
   "execution_count": 36,
   "id": "124171cd",
   "metadata": {},
   "outputs": [
    {
     "name": "stdout",
     "output_type": "stream",
     "text": [
      "30 10 20\n",
      "None\n"
     ]
    }
   ],
   "source": [
    "def add1():\n",
    "    num1=10\n",
    "    num2=20\n",
    "    s11=num1+num2\n",
    "    print(s11,num1,num2)\n",
    "s11=add1()\n",
    "print(s11)\n",
    "\n",
    "# No return statements but still try to catch s11, \n",
    "# So None is answer , which is error"
   ]
  },
  {
   "cell_type": "code",
   "execution_count": 38,
   "id": "554ca19f",
   "metadata": {},
   "outputs": [
    {
     "name": "stdout",
     "output_type": "stream",
     "text": [
      "Enter the number:23\n",
      "23\n",
      "1\n",
      "30\n",
      "200\n",
      "10\n",
      "20\n"
     ]
    }
   ],
   "source": [
    "import random\n",
    "def add1():\n",
    "    num1=10\n",
    "    num2=20\n",
    "    s11=eval(input(\"Enter the number:\"))\n",
    "    s22=random.randint(1,1)\n",
    "    s33=num1+num2\n",
    "    s44=num1*num2\n",
    "    return(s11,s22,s33,s44,num1,num2)\n",
    "s11,s22,s33,s44,num1,num2=add1()\n",
    "print(s11)\n",
    "print(s22)\n",
    "print(s33)\n",
    "print(s44)\n",
    "print(num1)\n",
    "print(num2)"
   ]
  },
  {
   "cell_type": "code",
   "execution_count": 6,
   "id": "4cf49aae",
   "metadata": {},
   "outputs": [],
   "source": [
    "def add():\n",
    "    n1=10\n",
    "    n2=20\n",
    "    a=n1+n2\n",
    "    return(a)\n",
    "a=add()"
   ]
  },
  {
   "cell_type": "code",
   "execution_count": 7,
   "id": "409c8f74",
   "metadata": {},
   "outputs": [
    {
     "data": {
      "text/plain": [
       "30"
      ]
     },
     "execution_count": 7,
     "metadata": {},
     "output_type": "execute_result"
    }
   ],
   "source": [
    "a"
   ]
  },
  {
   "cell_type": "code",
   "execution_count": 9,
   "id": "0461ae1c",
   "metadata": {},
   "outputs": [],
   "source": [
    "def add():\n",
    "    n1=10\n",
    "    n2=20\n",
    "    a1=n1+n2\n",
    "    return(a1,n1)\n",
    "val=add()"
   ]
  },
  {
   "cell_type": "code",
   "execution_count": 10,
   "id": "0e11e94d",
   "metadata": {},
   "outputs": [
    {
     "data": {
      "text/plain": [
       "(30, 10)"
      ]
     },
     "execution_count": 10,
     "metadata": {},
     "output_type": "execute_result"
    }
   ],
   "source": [
    "val"
   ]
  },
  {
   "cell_type": "markdown",
   "id": "d4a206af",
   "metadata": {},
   "source": [
    "**Function in Functions**"
   ]
  },
  {
   "cell_type": "code",
   "execution_count": 12,
   "id": "3cd3d311",
   "metadata": {},
   "outputs": [
    {
     "name": "stdout",
     "output_type": "stream",
     "text": [
      "====calling greet1 function======\n",
      "Good morning\n",
      "====calling greet2 function======\n",
      "Goog night\n"
     ]
    }
   ],
   "source": [
    "def greet1():\n",
    "    print(\"====calling greet1 function======\")\n",
    "    print(\"Good Morning\")\n",
    "def greet2():\n",
    "    print(\"====calling greet2 function======\")\n",
    "    print(\"Goog Night\")\n",
    "greet1()\n",
    "greet2()"
   ]
  },
  {
   "cell_type": "code",
   "execution_count": 13,
   "id": "c219d326",
   "metadata": {},
   "outputs": [
    {
     "name": "stdout",
     "output_type": "stream",
     "text": [
      "====calling greet1 function======\n",
      "====calling greet2 function======\n",
      "Goog Night\n",
      "Good Morning\n"
     ]
    }
   ],
   "source": [
    "def greet1():\n",
    "    print(\"====calling greet1 function======\")\n",
    "    greet2()\n",
    "    print(\"Good Morning\")\n",
    "def greet2():\n",
    "    print(\"====calling greet2 function======\")\n",
    "    print(\"Goog Night\")\n",
    "greet1()\n",
    "\n",
    "#Step1: =========calling greet1 function============\n",
    "#step2: =========calling greet2 function============\n",
    "#step3: good night\n",
    "#step4: good morning "
   ]
  },
  {
   "cell_type": "code",
   "execution_count": 17,
   "id": "dbcffd26",
   "metadata": {},
   "outputs": [
    {
     "name": "stdout",
     "output_type": "stream",
     "text": [
      "30\n",
      "-10\n"
     ]
    }
   ],
   "source": [
    "# Local variable concept\n",
    "def add():\n",
    "    a=10\n",
    "    b=20\n",
    "    print(a+b)\n",
    "def sub():\n",
    "    a=10\n",
    "    b=20\n",
    "    print(a-b)\n",
    "\n",
    "\n",
    "def math_operations():\n",
    "    add()\n",
    "    sub()\n",
    "    \n",
    "    \n",
    "math_operations()"
   ]
  },
  {
   "cell_type": "code",
   "execution_count": 18,
   "id": "135303e6",
   "metadata": {},
   "outputs": [
    {
     "name": "stdout",
     "output_type": "stream",
     "text": [
      "30\n",
      "-10\n"
     ]
    }
   ],
   "source": [
    "# Global variable Concept\n",
    "a=10\n",
    "b=20\n",
    "def add():\n",
    "    print(a+b)\n",
    "def sub():\n",
    "    print(a-b)\n",
    "\n",
    "\n",
    "def math_operations():\n",
    "    add()\n",
    "    sub()\n",
    "    \n",
    "    \n",
    "math_operations()"
   ]
  },
  {
   "cell_type": "code",
   "execution_count": 19,
   "id": "0dba6252",
   "metadata": {},
   "outputs": [
    {
     "name": "stdout",
     "output_type": "stream",
     "text": [
      "30\n",
      "-10\n"
     ]
    }
   ],
   "source": [
    "# With parameters\n",
    "def add(a1,b1):\n",
    "    print(a1+b1)\n",
    "def sub(a1,b1):\n",
    "    print(a1-b1)\n",
    "\n",
    "def math_operations(a1,b1):\n",
    "    add(a1,b1)\n",
    "    sub(a1,b1)\n",
    "    \n",
    "    \n",
    "math_operations(10,20)"
   ]
  },
  {
   "cell_type": "code",
   "execution_count": 21,
   "id": "9c518fa6",
   "metadata": {},
   "outputs": [
    {
     "name": "stdout",
     "output_type": "stream",
     "text": [
      "90\n",
      "-10\n"
     ]
    }
   ],
   "source": [
    "def add(n1,n2):\n",
    "    print(n1+n2)\n",
    "def sub(n1,n2):\n",
    "    print(n1-n2)\n",
    "\n",
    "def math_operations(n1,n2):\n",
    "    add(n1,n2)\n",
    "    sub(n1,n2)\n",
    "    \n",
    "    \n",
    "math_operations(40,50)"
   ]
  },
  {
   "cell_type": "code",
   "execution_count": null,
   "id": "1b4ac7ad",
   "metadata": {},
   "outputs": [],
   "source": [
    "# Calculator programs (Functions in Functions)\n",
    "# You need to create 4 functions\n",
    "# one is add function\n",
    "# one is subtrct function\n",
    "# one is multiplication functions\n",
    "# one is div function\n",
    "\n",
    "# you need to convey to the user \n",
    "# if operation =1 then perform addition operation\n",
    "# if operation=2 perform subtraction\n",
    "# if  operation 3  perform multiplication\n",
    "# if operation=4 perform division\n",
    "\n",
    "# entire if-elif-else you need to keep in big function\n",
    "# math operations\n",
    "# ask the user enetr the operation \n",
    "# if operation=1 call the addition function\n",
    "# if operation=2 call the subtraction function\n",
    "# if operation=3 call the multiplication function\n",
    "# if operation=4 call the division function\n",
    "\n",
    "#entire entire if-elif-else you need to keep in big function\n",
    "#math function"
   ]
  },
  {
   "cell_type": "code",
   "execution_count": 22,
   "id": "67589a19",
   "metadata": {},
   "outputs": [
    {
     "name": "stdout",
     "output_type": "stream",
     "text": [
      "Select operation:\n",
      "1. Addition\n",
      "2. Subtraction\n",
      "3. Multiplication\n",
      "4. Division\n",
      "Enter operation (1/2/3/4): 1\n",
      "Enter first number: 1\n",
      "Enter second number: 3\n",
      "The result is: 4.0\n"
     ]
    }
   ],
   "source": [
    "def add(a, b):\n",
    "    return a + b\n",
    "\n",
    "def subtract(a, b):\n",
    "    return a - b\n",
    "\n",
    "def multiply(a, b):\n",
    "    \"\"\"Function to multiply two numbers.\"\"\"\n",
    "    return a * b\n",
    "\n",
    "def divide(a, b):\n",
    "    \"\"\"Function to divide the first number by the second.\"\"\"\n",
    "    if b == 0:\n",
    "        return \"Error! Division by zero.\"\n",
    "    return a / b\n",
    "\n",
    "def math_operations():\n",
    "    print(\"Select operation:\")\n",
    "    print(\"1. Addition\")\n",
    "    print(\"2. Subtraction\")\n",
    "    print(\"3. Multiplication\")\n",
    "    print(\"4. Division\")\n",
    "\n",
    "    operation = eval(input(\"Enter operation (1/2/3/4): \"))\n",
    "    if operation not in [1, 2, 3, 4]:\n",
    "        return \"Invalid operation selected. Please select 1, 2, 3, or 4.\"\n",
    "\n",
    "    num1 = eval(input(\"Enter first number: \"))\n",
    "    num2 = eval(input(\"Enter second number: \"))\n",
    "\n",
    "    if operation == 1:\n",
    "        result = add(num1, num2)\n",
    "    elif operation == 2:\n",
    "        result = subtract(num1, num2)\n",
    "    elif operation == 3:\n",
    "        result = multiply(num1, num2)\n",
    "    elif operation == 4:\n",
    "        result = divide(num1, num2)\n",
    "    \n",
    "    return f\"The result is: {result}\"\n",
    "\n",
    "# Call the main function\n",
    "print(math_operations())"
   ]
  },
  {
   "cell_type": "code",
   "execution_count": null,
   "id": "a7588451",
   "metadata": {},
   "outputs": [],
   "source": []
  }
 ],
 "metadata": {
  "kernelspec": {
   "display_name": "Python 3 (ipykernel)",
   "language": "python",
   "name": "python3"
  },
  "language_info": {
   "codemirror_mode": {
    "name": "ipython",
    "version": 3
   },
   "file_extension": ".py",
   "mimetype": "text/x-python",
   "name": "python",
   "nbconvert_exporter": "python",
   "pygments_lexer": "ipython3",
   "version": "3.11.7"
  }
 },
 "nbformat": 4,
 "nbformat_minor": 5
}
