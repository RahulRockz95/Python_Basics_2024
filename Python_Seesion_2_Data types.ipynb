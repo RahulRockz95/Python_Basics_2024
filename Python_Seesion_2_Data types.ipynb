{
 "cells": [
  {
   "cell_type": "code",
   "execution_count": 1,
   "id": "f83f3203",
   "metadata": {},
   "outputs": [],
   "source": [
    "number=100"
   ]
  },
  {
   "cell_type": "markdown",
   "id": "51d6878e",
   "metadata": {},
   "source": [
    "**type**"
   ]
  },
  {
   "cell_type": "code",
   "execution_count": 3,
   "id": "6e452878",
   "metadata": {},
   "outputs": [
    {
     "data": {
      "text/plain": [
       "int"
      ]
     },
     "execution_count": 3,
     "metadata": {},
     "output_type": "execute_result"
    }
   ],
   "source": [
    "type(number)"
   ]
  },
  {
   "cell_type": "markdown",
   "id": "0c0b7e34",
   "metadata": {},
   "source": [
    "- integer\n",
    "\n",
    "\n",
    "- float\n",
    "\n",
    "\n",
    "- string\n",
    "\n",
    "\n",
    "- Boolean\n",
    "\n",
    "\n",
    "- Complex\n",
    "\n",
    "\n",
    "- list\n",
    "\n",
    "\n",
    "- tuple\n",
    "\n",
    "\n",
    "- dictionary\n",
    "\n",
    "\n",
    "- set "
   ]
  },
  {
   "cell_type": "markdown",
   "id": "2f26832d",
   "metadata": {},
   "source": [
    "# Python basic concepts - Part1\n",
    "\n",
    "\n",
    "- Variables\n",
    "    \n",
    "- Data Types\n",
    "\n",
    "- Data types conversion (type casting)\n",
    "\n",
    "- print statements \n",
    "\n",
    "- overview about packages\n",
    "\n",
    "- write your first end to entd program\n",
    "\n",
    "- conditions (if-else)\n",
    "\n",
    "- Functions\n",
    "\n",
    "- loops(for-while)\n",
    "\n",
    "\n",
    "# Python Part-2\n",
    "\n",
    "\n",
    "- Strings\n",
    "\n",
    "- Lists \n",
    "\n",
    "- dictionary\n",
    "\n",
    "- tuple (assessment)\n",
    "\n",
    "- sets\n",
    "\n",
    "- file handling \n",
    "\n",
    "- Lambda Functions\n",
    "\n",
    "\n",
    "\n",
    "# Python part-3: OOPS Concepts\n",
    "\n",
    "# Python EDA\n",
    "\n",
    "- Numpy\n",
    "\n",
    "- Pandas\n",
    "\n",
    "- matplotlib"
   ]
  },
  {
   "cell_type": "markdown",
   "id": "3578b959",
   "metadata": {},
   "source": [
    "**Integer**\n",
    "\n",
    "- binary:\n",
    "    - In real time we will use decimal number system\n",
    "    \n",
    "    - whatever the input but python will give output in decimal number format\n",
    "\n",
    "    - binary includes only 0 and 1\n",
    "\n",
    "    - bi means 2\n",
    "\n",
    "    - representation is : 0b111, 0B101\n",
    "    \n",
    "    - wrong represenation is : 0b123"
   ]
  },
  {
   "cell_type": "code",
   "execution_count": 6,
   "id": "2585278a",
   "metadata": {},
   "outputs": [
    {
     "data": {
      "text/plain": [
       "int"
      ]
     },
     "execution_count": 6,
     "metadata": {},
     "output_type": "execute_result"
    }
   ],
   "source": [
    "num=111\n",
    "type(num)"
   ]
  },
  {
   "cell_type": "code",
   "execution_count": 7,
   "id": "0d66ce82",
   "metadata": {},
   "outputs": [
    {
     "data": {
      "text/plain": [
       "7"
      ]
     },
     "execution_count": 7,
     "metadata": {},
     "output_type": "execute_result"
    }
   ],
   "source": [
    "0b111"
   ]
  },
  {
   "cell_type": "code",
   "execution_count": 8,
   "id": "4fb635d4",
   "metadata": {},
   "outputs": [
    {
     "data": {
      "text/plain": [
       "15"
      ]
     },
     "execution_count": 8,
     "metadata": {},
     "output_type": "execute_result"
    }
   ],
   "source": [
    "0b1111"
   ]
  },
  {
   "cell_type": "code",
   "execution_count": 9,
   "id": "6ed11297",
   "metadata": {},
   "outputs": [
    {
     "data": {
      "text/plain": [
       "5"
      ]
     },
     "execution_count": 9,
     "metadata": {},
     "output_type": "execute_result"
    }
   ],
   "source": [
    "0b101"
   ]
  },
  {
   "cell_type": "code",
   "execution_count": 10,
   "id": "81db123b",
   "metadata": {},
   "outputs": [
    {
     "data": {
      "text/plain": [
       "6"
      ]
     },
     "execution_count": 10,
     "metadata": {},
     "output_type": "execute_result"
    }
   ],
   "source": [
    "0b110"
   ]
  },
  {
   "cell_type": "code",
   "execution_count": 11,
   "id": "a326f4ea",
   "metadata": {},
   "outputs": [
    {
     "data": {
      "text/plain": [
       "14"
      ]
     },
     "execution_count": 11,
     "metadata": {},
     "output_type": "execute_result"
    }
   ],
   "source": [
    "0b1110"
   ]
  },
  {
   "cell_type": "code",
   "execution_count": 12,
   "id": "d1f2abac",
   "metadata": {},
   "outputs": [
    {
     "data": {
      "text/plain": [
       "42"
      ]
     },
     "execution_count": 12,
     "metadata": {},
     "output_type": "execute_result"
    }
   ],
   "source": [
    "0b101010"
   ]
  },
  {
   "cell_type": "markdown",
   "id": "eb9f35f0",
   "metadata": {},
   "source": [
    "- octa:\n",
    "    \n",
    "    - octa means 8\n",
    "    \n",
    "    - octa includes only 0 1 2 3 4 5 6 7\n",
    "    \n",
    "    - representation is : 0o123, 0O456\n",
    "        \n",
    "    - wrong represenation is :0o897"
   ]
  },
  {
   "cell_type": "code",
   "execution_count": 2,
   "id": "d14e3cfa",
   "metadata": {},
   "outputs": [
    {
     "data": {
      "text/plain": [
       "83"
      ]
     },
     "execution_count": 2,
     "metadata": {},
     "output_type": "execute_result"
    }
   ],
   "source": [
    "0o123"
   ]
  },
  {
   "cell_type": "code",
   "execution_count": 4,
   "id": "14ab986a",
   "metadata": {},
   "outputs": [
    {
     "data": {
      "text/plain": [
       "375"
      ]
     },
     "execution_count": 4,
     "metadata": {},
     "output_type": "execute_result"
    }
   ],
   "source": [
    "0o567"
   ]
  },
  {
   "cell_type": "markdown",
   "id": "a4483c6e",
   "metadata": {},
   "source": [
    "- hexa:\n",
    "    \n",
    "    - hexa means 16\n",
    "    \n",
    "    - hexa includes only 0 1 2 3 4 5 6 7 8 9 A B C D E F\n",
    "    \n",
    "    - A=10, B=11, c=12, D=13, E=14, F=15\n",
    "    \n",
    "    - represenation is : 0x123, 0xabc\n",
    "        \n",
    "    - wrong represenation is : 0xabz"
   ]
  },
  {
   "cell_type": "code",
   "execution_count": 5,
   "id": "88208097",
   "metadata": {},
   "outputs": [
    {
     "data": {
      "text/plain": [
       "291"
      ]
     },
     "execution_count": 5,
     "metadata": {},
     "output_type": "execute_result"
    }
   ],
   "source": [
    "0x123"
   ]
  },
  {
   "cell_type": "code",
   "execution_count": 6,
   "id": "1947bac3",
   "metadata": {},
   "outputs": [
    {
     "data": {
      "text/plain": [
       "2748"
      ]
     },
     "execution_count": 6,
     "metadata": {},
     "output_type": "execute_result"
    }
   ],
   "source": [
    "0xabc"
   ]
  },
  {
   "cell_type": "code",
   "execution_count": 7,
   "id": "a9875195",
   "metadata": {},
   "outputs": [
    {
     "data": {
      "text/plain": [
       "6"
      ]
     },
     "execution_count": 7,
     "metadata": {},
     "output_type": "execute_result"
    }
   ],
   "source": [
    "0b110"
   ]
  },
  {
   "cell_type": "code",
   "execution_count": null,
   "id": "b3735d1b",
   "metadata": {},
   "outputs": [],
   "source": [
    "8 4 2 1\n",
    "0 0 0 0 = 0\n",
    "0 0 0 1 = 1\n",
    "0 0 1 0 = 2\n",
    "0 0 1 1 = 3\n",
    "0 1 0 0 = 4\n",
    "0 1 0 1 = 5\n",
    "0 1 1 0 = 6\n",
    "0 1 1 1 = 7\n",
    "0 1 0 0 = 8\n",
    "1 0 0 1  =9\n",
    "1 0 1 0\n",
    "1 0 1 1\n",
    "1 0 0 0\n",
    "1 1 0 1\n",
    "1 1 1 0\n",
    "1 1 1 1\n",
    "1 1 0 0"
   ]
  },
  {
   "cell_type": "markdown",
   "id": "594f91b4",
   "metadata": {},
   "source": [
    "## Float"
   ]
  },
  {
   "cell_type": "code",
   "execution_count": 14,
   "id": "57247cec",
   "metadata": {},
   "outputs": [
    {
     "data": {
      "text/plain": [
       "float"
      ]
     },
     "execution_count": 14,
     "metadata": {},
     "output_type": "execute_result"
    }
   ],
   "source": [
    "number_float=123.256\n",
    "type(number_float)"
   ]
  },
  {
   "cell_type": "code",
   "execution_count": 8,
   "id": "fac85300",
   "metadata": {},
   "outputs": [
    {
     "data": {
      "text/plain": [
       "10.0"
      ]
     },
     "execution_count": 8,
     "metadata": {},
     "output_type": "execute_result"
    }
   ],
   "source": [
    "1e1"
   ]
  },
  {
   "cell_type": "code",
   "execution_count": 9,
   "id": "8781e60d",
   "metadata": {},
   "outputs": [
    {
     "data": {
      "text/plain": [
       "100.0"
      ]
     },
     "execution_count": 9,
     "metadata": {},
     "output_type": "execute_result"
    }
   ],
   "source": [
    "1e2"
   ]
  },
  {
   "cell_type": "code",
   "execution_count": 10,
   "id": "22eb71ea",
   "metadata": {},
   "outputs": [
    {
     "data": {
      "text/plain": [
       "(10.0, 100.0, 1000.0, 10000.0)"
      ]
     },
     "execution_count": 10,
     "metadata": {},
     "output_type": "execute_result"
    }
   ],
   "source": [
    "1e1,1e2,1e3,1e4"
   ]
  },
  {
   "cell_type": "code",
   "execution_count": 12,
   "id": "b8819952",
   "metadata": {},
   "outputs": [
    {
     "data": {
      "text/plain": [
       "(10.0, 102.0, 1003.0, 1000.0)"
      ]
     },
     "execution_count": 12,
     "metadata": {},
     "output_type": "execute_result"
    }
   ],
   "source": [
    "1e+1,1e2+2,1e3+3,1e+3 # multiplication"
   ]
  },
  {
   "cell_type": "code",
   "execution_count": 15,
   "id": "378924a2",
   "metadata": {},
   "outputs": [
    {
     "data": {
      "text/plain": [
       "(0.1, 0.01, 0.001)"
      ]
     },
     "execution_count": 15,
     "metadata": {},
     "output_type": "execute_result"
    }
   ],
   "source": [
    "1e-1, 1e-2, 1e-3 #division 1 divided by 10, 100, 1000"
   ]
  },
  {
   "cell_type": "code",
   "execution_count": 16,
   "id": "e3959471",
   "metadata": {},
   "outputs": [
    {
     "data": {
      "text/plain": [
       "7.74619736e-15"
      ]
     },
     "execution_count": 16,
     "metadata": {},
     "output_type": "execute_result"
    }
   ],
   "source": [
    "# You need to check some ans will be zero\n",
    "#0.0\n",
    "#1e-13\n",
    "7.74619736e-15\n",
    "\n",
    "1e-10\n",
    "1/(10000000000) = 0.0000000010 ~ 0"
   ]
  },
  {
   "cell_type": "markdown",
   "id": "cfd3cb77",
   "metadata": {},
   "source": [
    "**Boolean**\n",
    "\n",
    "- True = 1 \n",
    "\n",
    "- False = 0"
   ]
  },
  {
   "cell_type": "code",
   "execution_count": 23,
   "id": "109db7e1",
   "metadata": {},
   "outputs": [
    {
     "data": {
      "text/plain": [
       "bool"
      ]
     },
     "execution_count": 23,
     "metadata": {},
     "output_type": "execute_result"
    }
   ],
   "source": [
    "ans = True\n",
    "type(ans)"
   ]
  },
  {
   "cell_type": "code",
   "execution_count": 24,
   "id": "59d62ace",
   "metadata": {},
   "outputs": [
    {
     "data": {
      "text/plain": [
       "bool"
      ]
     },
     "execution_count": 24,
     "metadata": {},
     "output_type": "execute_result"
    }
   ],
   "source": [
    "wrong_ans= False\n",
    "type(wrong_ans)"
   ]
  },
  {
   "cell_type": "code",
   "execution_count": 26,
   "id": "2f461686",
   "metadata": {},
   "outputs": [
    {
     "data": {
      "text/plain": [
       "True"
      ]
     },
     "execution_count": 26,
     "metadata": {},
     "output_type": "execute_result"
    }
   ],
   "source": [
    "true=True\n",
    "true"
   ]
  },
  {
   "cell_type": "code",
   "execution_count": 27,
   "id": "8e380f27",
   "metadata": {},
   "outputs": [
    {
     "data": {
      "text/plain": [
       "5"
      ]
     },
     "execution_count": 27,
     "metadata": {},
     "output_type": "execute_result"
    }
   ],
   "source": [
    "wrong_ans=False\n",
    "wrong_ans=5\n",
    "wrong_ans"
   ]
  },
  {
   "cell_type": "code",
   "execution_count": 28,
   "id": "46f23cd9",
   "metadata": {},
   "outputs": [
    {
     "data": {
      "text/plain": [
       "int"
      ]
     },
     "execution_count": 28,
     "metadata": {},
     "output_type": "execute_result"
    }
   ],
   "source": [
    "# data type also will be changed\n",
    "type(wrong_ans)"
   ]
  },
  {
   "cell_type": "markdown",
   "id": "d1c7d356",
   "metadata": {},
   "source": [
    "$String$\n",
    "\n",
    "- string"
   ]
  },
  {
   "cell_type": "code",
   "execution_count": 30,
   "id": "fa4000ba",
   "metadata": {},
   "outputs": [
    {
     "data": {
      "text/plain": [
       "'python'"
      ]
     },
     "execution_count": 30,
     "metadata": {},
     "output_type": "execute_result"
    }
   ],
   "source": [
    "name1 = 'python'\n",
    "name1"
   ]
  },
  {
   "cell_type": "code",
   "execution_count": 31,
   "id": "5ba6c158",
   "metadata": {},
   "outputs": [
    {
     "data": {
      "text/plain": [
       "'naresh it'"
      ]
     },
     "execution_count": 31,
     "metadata": {},
     "output_type": "execute_result"
    }
   ],
   "source": [
    "name2 = \"naresh it\"\n",
    "name2"
   ]
  },
  {
   "cell_type": "code",
   "execution_count": 32,
   "id": "5e1977d5",
   "metadata": {},
   "outputs": [
    {
     "data": {
      "text/plain": [
       "'My name is Rahul'"
      ]
     },
     "execution_count": 32,
     "metadata": {},
     "output_type": "execute_result"
    }
   ],
   "source": [
    "name3 = 'My name is Rahul'\n",
    "name3"
   ]
  },
  {
   "cell_type": "code",
   "execution_count": 33,
   "id": "03de0cc7",
   "metadata": {},
   "outputs": [
    {
     "data": {
      "text/plain": [
       "str"
      ]
     },
     "execution_count": 33,
     "metadata": {},
     "output_type": "execute_result"
    }
   ],
   "source": [
    "type(name1)"
   ]
  },
  {
   "cell_type": "markdown",
   "id": "dabae68a",
   "metadata": {},
   "source": [
    "integer ==== int\n",
    "\n",
    "boolean ==== bool\n",
    "\n",
    "string  ==== str\n",
    "\n",
    "float   ==== float"
   ]
  },
  {
   "cell_type": "code",
   "execution_count": null,
   "id": "7ca1fafc",
   "metadata": {},
   "outputs": [],
   "source": [
    "I like 'python'"
   ]
  },
  {
   "cell_type": "code",
   "execution_count": 36,
   "id": "d4ae4b03",
   "metadata": {},
   "outputs": [
    {
     "data": {
      "text/plain": [
       "\"i 'like' python\""
      ]
     },
     "execution_count": 36,
     "metadata": {},
     "output_type": "execute_result"
    }
   ],
   "source": [
    "name3 = \"i 'like' python\"\n",
    "name3"
   ]
  },
  {
   "cell_type": "code",
   "execution_count": 37,
   "id": "c104ad5a",
   "metadata": {},
   "outputs": [
    {
     "data": {
      "text/plain": [
       "'i \"like\" python'"
      ]
     },
     "execution_count": 37,
     "metadata": {},
     "output_type": "execute_result"
    }
   ],
   "source": [
    "name4 ='i \"like\" python'\n",
    "name4"
   ]
  },
  {
   "cell_type": "code",
   "execution_count": 38,
   "id": "ec5a92e2",
   "metadata": {},
   "outputs": [
    {
     "data": {
      "text/plain": [
       "\"i like 'python'\""
      ]
     },
     "execution_count": 38,
     "metadata": {},
     "output_type": "execute_result"
    }
   ],
   "source": [
    "name5 = \"i like 'python'\"\n",
    "name5"
   ]
  },
  {
   "cell_type": "markdown",
   "id": "16cb1f0b",
   "metadata": {},
   "source": [
    "**Note**\n",
    "\n",
    "- Entire sentence in single quotes, then highlighted word in double quotes \n",
    "\n",
    "- Entire sentence in double quotes, then highlighted word in single quotes"
   ]
  },
  {
   "cell_type": "code",
   "execution_count": 42,
   "id": "0257fb24",
   "metadata": {},
   "outputs": [
    {
     "data": {
      "text/plain": [
       "'hello how are you\\n        how do you do\\n        im good\\n        how is DS class'"
      ]
     },
     "execution_count": 42,
     "metadata": {},
     "output_type": "execute_result"
    }
   ],
   "source": [
    "str1 = \"\"\"hello how are you\n",
    "        how do you do\n",
    "        im good\n",
    "        how is DS class\"\"\"\n",
    "\n",
    "str1\n",
    "\n",
    "# \\n =  new line\n",
    "# there is multiple lines are there in output"
   ]
  },
  {
   "cell_type": "code",
   "execution_count": 43,
   "id": "184607b2",
   "metadata": {},
   "outputs": [
    {
     "name": "stdout",
     "output_type": "stream",
     "text": [
      "hello how are you\n",
      "        how do you do\n",
      "        im good\n",
      "        how is DS class\n"
     ]
    }
   ],
   "source": [
    "print(str1)"
   ]
  },
  {
   "cell_type": "markdown",
   "id": "af91dba0",
   "metadata": {},
   "source": [
    "- Strings can represent in single quotes, double quotes or triple quotes\n",
    "\n",
    "- When a person writing something in triple quotes : **Doc String**\n",
    "    \n",
    "- Triple are used for conveying information like markdown in Jupyter notebook\n",
    "\n",
    "- Triple quotes are not used for coding part"
   ]
  },
  {
   "cell_type": "markdown",
   "id": "703827f5",
   "metadata": {},
   "source": [
    "**Type Casting**"
   ]
  },
  {
   "cell_type": "code",
   "execution_count": null,
   "id": "4f6dd2f5",
   "metadata": {},
   "outputs": [],
   "source": []
  }
 ],
 "metadata": {
  "kernelspec": {
   "display_name": "Python 3 (ipykernel)",
   "language": "python",
   "name": "python3"
  },
  "language_info": {
   "codemirror_mode": {
    "name": "ipython",
    "version": 3
   },
   "file_extension": ".py",
   "mimetype": "text/x-python",
   "name": "python",
   "nbconvert_exporter": "python",
   "pygments_lexer": "ipython3",
   "version": "3.11.7"
  }
 },
 "nbformat": 4,
 "nbformat_minor": 5
}
