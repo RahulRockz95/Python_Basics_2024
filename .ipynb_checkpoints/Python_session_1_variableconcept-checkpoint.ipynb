{
 "cells": [
  {
   "cell_type": "code",
   "execution_count": 1,
   "id": "e9a081c0",
   "metadata": {},
   "outputs": [
    {
     "data": {
      "text/plain": [
       "600"
      ]
     },
     "execution_count": 1,
     "metadata": {},
     "output_type": "execute_result"
    }
   ],
   "source": [
    "a=20\n",
    "b=30\n",
    "a*b"
   ]
  },
  {
   "cell_type": "code",
   "execution_count": 3,
   "id": "b2783a88",
   "metadata": {},
   "outputs": [
    {
     "data": {
      "text/plain": [
       "50"
      ]
     },
     "execution_count": 3,
     "metadata": {},
     "output_type": "execute_result"
    }
   ],
   "source": [
    "a=20\n",
    "b=30\n",
    "a+b\n",
    "\n",
    "\n",
    "# shift+enter"
   ]
  },
  {
   "cell_type": "markdown",
   "id": "61a3407c",
   "metadata": {},
   "source": [
    "Hello Python"
   ]
  },
  {
   "cell_type": "markdown",
   "id": "a9939283",
   "metadata": {},
   "source": [
    "Hello Python\n",
    "If i run the hello Python in code mode it will give the Error\n",
    "No square bracket means markDown Mode"
   ]
  },
  {
   "cell_type": "markdown",
   "id": "9b9b8551",
   "metadata": {},
   "source": [
    "# Python"
   ]
  },
  {
   "cell_type": "markdown",
   "id": "92ce12a8",
   "metadata": {},
   "source": [
    "## python"
   ]
  },
  {
   "cell_type": "markdown",
   "id": "76cb47f3",
   "metadata": {},
   "source": [
    "### python"
   ]
  },
  {
   "cell_type": "markdown",
   "id": "abc2ffe2",
   "metadata": {},
   "source": [
    "python is easy\n",
    "\n",
    "esc+m : Code Mode to MarkDown Mode\n",
    "\n",
    "esc+y: Markdown Mode to Code Mode\n",
    "\n",
    "shift+enter"
   ]
  },
  {
   "cell_type": "markdown",
   "id": "b6ee2fd8",
   "metadata": {},
   "source": [
    "- kernel white color is available ready to do work\n",
    "- if kernel is black colr he is already in work , you need to wait\n",
    "- CTRL+ plus zoom in\n",
    "- CTRL+ minus zoom out\n",
    "- if u see any star mark or black color in kernel, \n",
    "- it means its busy do not write or execute any cells\n",
    "- python code execute sequencially(step-by-step), not parallely"
   ]
  },
  {
   "cell_type": "markdown",
   "id": "eeda9fde",
   "metadata": {},
   "source": [
    "- Python is our friend\n",
    "- Python does not have any semicolons\n",
    "- Python will not ask any data types"
   ]
  },
  {
   "cell_type": "markdown",
   "id": "87920849",
   "metadata": {},
   "source": [
    "<img src=\"https://upload.wikimedia.org/wikipedia/commons/thumb/c/c3/Python-logo-notext.svg/640px-Python-logo-notext.svg.png\" jsaction=\"VQAsE\" class=\"sFlh5c pT0Scc iPVvYb\" style=\"max-width: 640px; height: 142px; margin: 0px; width: 130px;\" alt=\"Python (programming language) - Wikipedia\" jsname=\"kn3ccd\" aria-hidden=\"false\">"
   ]
  },
  {
   "cell_type": "code",
   "execution_count": 3,
   "id": "3369a5a9",
   "metadata": {},
   "outputs": [],
   "source": [
    "import os  # shift+enter"
   ]
  },
  {
   "cell_type": "code",
   "execution_count": 4,
   "id": "dac468ea",
   "metadata": {},
   "outputs": [
    {
     "data": {
      "text/plain": [
       "'C:\\\\Users\\\\Rahul\\\\Documents\\\\NareshIT\\\\Python'"
      ]
     },
     "execution_count": 4,
     "metadata": {},
     "output_type": "execute_result"
    }
   ],
   "source": [
    "os.getcwd() #enter tab button, get current working directory"
   ]
  },
  {
   "cell_type": "markdown",
   "id": "1ab4a717",
   "metadata": {},
   "source": [
    "python\n",
    "code === mark down\n",
    "\n",
    "select the cell\n",
    "\n",
    "esc+m\n",
    "\n",
    "esc+y"
   ]
  },
  {
   "cell_type": "code",
   "execution_count": 5,
   "id": "97e40878",
   "metadata": {},
   "outputs": [
    {
     "data": {
      "text/plain": [
       "'C:\\\\Users\\\\Rahul\\\\Documents\\\\NareshIT\\\\Python'"
      ]
     },
     "execution_count": 5,
     "metadata": {},
     "output_type": "execute_result"
    }
   ],
   "source": [
    "os.getcwd()"
   ]
  },
  {
   "cell_type": "markdown",
   "id": "5ac67529",
   "metadata": {},
   "source": [
    " ##  Variables"
   ]
  },
  {
   "cell_type": "markdown",
   "id": "d4846539",
   "metadata": {},
   "source": [
    "- Variable is used to store a value \n",
    "\n",
    "- Variables can change their values\n",
    "\n",
    "- In python, latest value will be considered \n",
    "\n",
    "- python is a step by step process"
   ]
  },
  {
   "cell_type": "code",
   "execution_count": 7,
   "id": "b467b524",
   "metadata": {},
   "outputs": [
    {
     "data": {
      "text/plain": [
       "10"
      ]
     },
     "execution_count": 7,
     "metadata": {},
     "output_type": "execute_result"
    }
   ],
   "source": [
    "num =10 # value 10 stored in  variable called 'num'\n",
    "num"
   ]
  },
  {
   "cell_type": "code",
   "execution_count": 8,
   "id": "f9647cb8",
   "metadata": {},
   "outputs": [
    {
     "data": {
      "text/plain": [
       "100"
      ]
     },
     "execution_count": 8,
     "metadata": {},
     "output_type": "execute_result"
    }
   ],
   "source": [
    "NUM=100\n",
    "NUM"
   ]
  },
  {
   "cell_type": "code",
   "execution_count": 9,
   "id": "a598cbbc",
   "metadata": {},
   "outputs": [],
   "source": [
    "# whenever u run new cell will be created \n",
    "# shift+enter "
   ]
  },
  {
   "cell_type": "code",
   "execution_count": 10,
   "id": "24f9f0d8",
   "metadata": {},
   "outputs": [
    {
     "data": {
      "text/plain": [
       "200"
      ]
     },
     "execution_count": 10,
     "metadata": {},
     "output_type": "execute_result"
    }
   ],
   "source": [
    "NUMber =200\n",
    "NUMber"
   ]
  },
  {
   "cell_type": "code",
   "execution_count": 14,
   "id": "927854d0",
   "metadata": {},
   "outputs": [
    {
     "data": {
      "text/plain": [
       "500"
      ]
     },
     "execution_count": 14,
     "metadata": {},
     "output_type": "execute_result"
    }
   ],
   "source": [
    "omkar =500\n",
    "omkar"
   ]
  },
  {
   "cell_type": "code",
   "execution_count": 11,
   "id": "3ddda74b",
   "metadata": {},
   "outputs": [
    {
     "data": {
      "text/plain": [
       "300"
      ]
     },
     "execution_count": 11,
     "metadata": {},
     "output_type": "execute_result"
    }
   ],
   "source": [
    "number123=300\n",
    "number123"
   ]
  },
  {
   "cell_type": "code",
   "execution_count": 2,
   "id": "e2ed2689",
   "metadata": {},
   "outputs": [
    {
     "ename": "SyntaxError",
     "evalue": "cannot assign to expression here. Maybe you meant '==' instead of '='? (2477609755.py, line 1)",
     "output_type": "error",
     "traceback": [
      "\u001b[1;36m  Cell \u001b[1;32mIn[2], line 1\u001b[1;36m\u001b[0m\n\u001b[1;33m    num@one=1\u001b[0m\n\u001b[1;37m    ^\u001b[0m\n\u001b[1;31mSyntaxError\u001b[0m\u001b[1;31m:\u001b[0m cannot assign to expression here. Maybe you meant '==' instead of '='?\n"
     ]
    }
   ],
   "source": [
    "num@one=1\n",
    "num@one"
   ]
  },
  {
   "cell_type": "code",
   "execution_count": 16,
   "id": "1aba59bc",
   "metadata": {},
   "outputs": [
    {
     "ename": "SyntaxError",
     "evalue": "invalid syntax (3559867608.py, line 1)",
     "output_type": "error",
     "traceback": [
      "\u001b[1;36m  Cell \u001b[1;32mIn[16], line 1\u001b[1;36m\u001b[0m\n\u001b[1;33m    num 1=300\u001b[0m\n\u001b[1;37m        ^\u001b[0m\n\u001b[1;31mSyntaxError\u001b[0m\u001b[1;31m:\u001b[0m invalid syntax\n"
     ]
    }
   ],
   "source": [
    "num 1=300\n",
    "num 1"
   ]
  },
  {
   "cell_type": "code",
   "execution_count": 17,
   "id": "d717a314",
   "metadata": {},
   "outputs": [
    {
     "ename": "SyntaxError",
     "evalue": "invalid decimal literal (3611000210.py, line 1)",
     "output_type": "error",
     "traceback": [
      "\u001b[1;36m  Cell \u001b[1;32mIn[17], line 1\u001b[1;36m\u001b[0m\n\u001b[1;33m    123num =400\u001b[0m\n\u001b[1;37m      ^\u001b[0m\n\u001b[1;31mSyntaxError\u001b[0m\u001b[1;31m:\u001b[0m invalid decimal literal\n"
     ]
    }
   ],
   "source": [
    "123num =400\n",
    "123num"
   ]
  },
  {
   "cell_type": "code",
   "execution_count": 20,
   "id": "7ee8eaaa",
   "metadata": {},
   "outputs": [
    {
     "data": {
      "text/plain": [
       "500"
      ]
     },
     "execution_count": 20,
     "metadata": {},
     "output_type": "execute_result"
    }
   ],
   "source": [
    "num_one=500\n",
    "num_one"
   ]
  },
  {
   "cell_type": "code",
   "execution_count": 21,
   "id": "a9d1a993",
   "metadata": {},
   "outputs": [
    {
     "data": {
      "text/plain": [
       "800"
      ]
     },
     "execution_count": 21,
     "metadata": {},
     "output_type": "execute_result"
    }
   ],
   "source": [
    "_=800\n",
    "_"
   ]
  },
  {
   "cell_type": "code",
   "execution_count": 22,
   "id": "8c2c8dd6",
   "metadata": {},
   "outputs": [
    {
     "ename": "SyntaxError",
     "evalue": "invalid syntax (3092338201.py, line 1)",
     "output_type": "error",
     "traceback": [
      "\u001b[1;36m  Cell \u001b[1;32mIn[22], line 1\u001b[1;36m\u001b[0m\n\u001b[1;33m    if=700\u001b[0m\n\u001b[1;37m      ^\u001b[0m\n\u001b[1;31mSyntaxError\u001b[0m\u001b[1;31m:\u001b[0m invalid syntax\n"
     ]
    }
   ],
   "source": [
    "if=700\n",
    "if"
   ]
  },
  {
   "cell_type": "code",
   "execution_count": 23,
   "id": "14d8e9fd",
   "metadata": {},
   "outputs": [
    {
     "ename": "SyntaxError",
     "evalue": "invalid syntax (2600268535.py, line 1)",
     "output_type": "error",
     "traceback": [
      "\u001b[1;36m  Cell \u001b[1;32mIn[23], line 1\u001b[1;36m\u001b[0m\n\u001b[1;33m    while=800\u001b[0m\n\u001b[1;37m         ^\u001b[0m\n\u001b[1;31mSyntaxError\u001b[0m\u001b[1;31m:\u001b[0m invalid syntax\n"
     ]
    }
   ],
   "source": [
    "while=800\n",
    "while"
   ]
  },
  {
   "cell_type": "markdown",
   "id": "f9bdaa9f",
   "metadata": {},
   "source": [
    "-  variables are case sensitive\n",
    "\n",
    "\n",
    "-  variables can be capitals and  small letters\n",
    "\n",
    "\n",
    "-  variables does not allow special characters except underscore\n",
    "\n",
    "\n",
    "-  Only one underscore can be a variable\n",
    "\n",
    "\n",
    "-  variables does not contain space between the words\n",
    "\n",
    "\n",
    "-  Variables cannot contain numbers as prefix ex:123num\n",
    "\n",
    "\n",
    "-  Variables can have numbers as suffix ex:num123\n",
    "\n",
    "    \n",
    "-  Variables doesnot contain any keywords\n"
   ]
  },
  {
   "cell_type": "code",
   "execution_count": null,
   "id": "905e8b00",
   "metadata": {},
   "outputs": [],
   "source": []
  }
 ],
 "metadata": {
  "kernelspec": {
   "display_name": "Python 3 (ipykernel)",
   "language": "python",
   "name": "python3"
  },
  "language_info": {
   "codemirror_mode": {
    "name": "ipython",
    "version": 3
   },
   "file_extension": ".py",
   "mimetype": "text/x-python",
   "name": "python",
   "nbconvert_exporter": "python",
   "pygments_lexer": "ipython3",
   "version": "3.11.7"
  }
 },
 "nbformat": 4,
 "nbformat_minor": 5
}
